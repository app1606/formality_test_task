{
  "nbformat": 4,
  "nbformat_minor": 0,
  "metadata": {
    "colab": {
      "provenance": [],
      "gpuType": "T4",
      "collapsed_sections": [
        "VjV7EAAviyho"
      ]
    },
    "kernelspec": {
      "name": "python3",
      "display_name": "Python 3"
    },
    "language_info": {
      "name": "python"
    },
    "accelerator": "GPU"
  },
  "cells": [
    {
      "cell_type": "markdown",
      "source": [
        "### Libraries installation"
      ],
      "metadata": {
        "id": "VjV7EAAviyho"
      }
    },
    {
      "cell_type": "code",
      "source": [
        "! pip uninstall numpy"
      ],
      "metadata": {
        "colab": {
          "base_uri": "https://localhost:8080/"
        },
        "id": "fvW9iOxii2NT",
        "outputId": "20bd96a1-a73a-47c4-9606-28b8dc0f7c9f"
      },
      "execution_count": 1,
      "outputs": [
        {
          "output_type": "stream",
          "name": "stdout",
          "text": [
            "Found existing installation: numpy 2.0.2\n",
            "Uninstalling numpy-2.0.2:\n",
            "  Would remove:\n",
            "    /usr/local/bin/f2py\n",
            "    /usr/local/bin/numpy-config\n",
            "    /usr/local/lib/python3.11/dist-packages/numpy-2.0.2.dist-info/*\n",
            "    /usr/local/lib/python3.11/dist-packages/numpy.libs/libgfortran-040039e1-0352e75f.so.5.0.0\n",
            "    /usr/local/lib/python3.11/dist-packages/numpy.libs/libquadmath-96973f99-934c22de.so.0.0.0\n",
            "    /usr/local/lib/python3.11/dist-packages/numpy.libs/libscipy_openblas64_-99b71e71.so\n",
            "    /usr/local/lib/python3.11/dist-packages/numpy/*\n",
            "Proceed (Y/n)? Y\n",
            "  Successfully uninstalled numpy-2.0.2\n"
          ]
        }
      ]
    },
    {
      "cell_type": "code",
      "source": [
        "! pip install numpy==1.26.4"
      ],
      "metadata": {
        "colab": {
          "base_uri": "https://localhost:8080/"
        },
        "id": "VuaO1_-8i2nC",
        "outputId": "c7f88e42-f4f2-43a8-8ecb-8dc8f6fe2351"
      },
      "execution_count": 2,
      "outputs": [
        {
          "output_type": "stream",
          "name": "stdout",
          "text": [
            "Collecting numpy==1.26.4\n",
            "  Downloading numpy-1.26.4-cp311-cp311-manylinux_2_17_x86_64.manylinux2014_x86_64.whl.metadata (61 kB)\n",
            "\u001b[?25l     \u001b[90m━━━━━━━━━━━━━━━━━━━━━━━━━━━━━━━━━━━━━━━━\u001b[0m \u001b[32m0.0/61.0 kB\u001b[0m \u001b[31m?\u001b[0m eta \u001b[36m-:--:--\u001b[0m\r\u001b[2K     \u001b[90m━━━━━━━━━━━━━━━━━━━━━━━━━━━━━━━━━━━━━━━━\u001b[0m \u001b[32m61.0/61.0 kB\u001b[0m \u001b[31m4.6 MB/s\u001b[0m eta \u001b[36m0:00:00\u001b[0m\n",
            "\u001b[?25hDownloading numpy-1.26.4-cp311-cp311-manylinux_2_17_x86_64.manylinux2014_x86_64.whl (18.3 MB)\n",
            "\u001b[2K   \u001b[90m━━━━━━━━━━━━━━━━━━━━━━━━━━━━━━━━━━━━━━━━\u001b[0m \u001b[32m18.3/18.3 MB\u001b[0m \u001b[31m75.8 MB/s\u001b[0m eta \u001b[36m0:00:00\u001b[0m\n",
            "\u001b[?25hInstalling collected packages: numpy\n",
            "Successfully installed numpy-1.26.4\n"
          ]
        }
      ]
    },
    {
      "cell_type": "code",
      "source": [
        "import numpy as np\n",
        "print(np.__version__)"
      ],
      "metadata": {
        "colab": {
          "base_uri": "https://localhost:8080/"
        },
        "id": "C7duQVlzi6hn",
        "outputId": "64920ff6-98fe-427b-daa2-0909a7946ed5"
      },
      "execution_count": 1,
      "outputs": [
        {
          "output_type": "stream",
          "name": "stdout",
          "text": [
            "1.26.4\n"
          ]
        }
      ]
    },
    {
      "cell_type": "markdown",
      "source": [
        "If for some reason it's not equal to 1.26.4, please restart the notebook. It's important to run the catboost classification.\n",
        "\n",
        "It seems that current version of catboost is not compatible with numpy 2.x."
      ],
      "metadata": {
        "id": "w6UzF6dRcN6p"
      }
    },
    {
      "cell_type": "code",
      "source": [
        "! pip install pip-system-certs striprtf catboost"
      ],
      "metadata": {
        "colab": {
          "base_uri": "https://localhost:8080/"
        },
        "id": "CysXyUrSb3HJ",
        "outputId": "db22bc15-3c94-4351-e6b8-17bb5cfbae4c"
      },
      "execution_count": 2,
      "outputs": [
        {
          "output_type": "stream",
          "name": "stdout",
          "text": [
            "Collecting pip-system-certs\n",
            "  Downloading pip_system_certs-4.0-py2.py3-none-any.whl.metadata (1.6 kB)\n",
            "Collecting striprtf\n",
            "  Downloading striprtf-0.0.29-py3-none-any.whl.metadata (2.3 kB)\n",
            "Collecting catboost\n",
            "  Downloading catboost-1.2.7-cp311-cp311-manylinux2014_x86_64.whl.metadata (1.2 kB)\n",
            "Requirement already satisfied: wrapt>=1.10.4 in /usr/local/lib/python3.11/dist-packages (from pip-system-certs) (1.17.2)\n",
            "Requirement already satisfied: graphviz in /usr/local/lib/python3.11/dist-packages (from catboost) (0.20.3)\n",
            "Requirement already satisfied: matplotlib in /usr/local/lib/python3.11/dist-packages (from catboost) (3.10.0)\n",
            "Requirement already satisfied: numpy<2.0,>=1.16.0 in /usr/local/lib/python3.11/dist-packages (from catboost) (1.26.4)\n",
            "Requirement already satisfied: pandas>=0.24 in /usr/local/lib/python3.11/dist-packages (from catboost) (2.2.2)\n",
            "Requirement already satisfied: scipy in /usr/local/lib/python3.11/dist-packages (from catboost) (1.14.1)\n",
            "Requirement already satisfied: plotly in /usr/local/lib/python3.11/dist-packages (from catboost) (5.24.1)\n",
            "Requirement already satisfied: six in /usr/local/lib/python3.11/dist-packages (from catboost) (1.17.0)\n",
            "Requirement already satisfied: python-dateutil>=2.8.2 in /usr/local/lib/python3.11/dist-packages (from pandas>=0.24->catboost) (2.8.2)\n",
            "Requirement already satisfied: pytz>=2020.1 in /usr/local/lib/python3.11/dist-packages (from pandas>=0.24->catboost) (2025.2)\n",
            "Requirement already satisfied: tzdata>=2022.7 in /usr/local/lib/python3.11/dist-packages (from pandas>=0.24->catboost) (2025.2)\n",
            "Requirement already satisfied: contourpy>=1.0.1 in /usr/local/lib/python3.11/dist-packages (from matplotlib->catboost) (1.3.1)\n",
            "Requirement already satisfied: cycler>=0.10 in /usr/local/lib/python3.11/dist-packages (from matplotlib->catboost) (0.12.1)\n",
            "Requirement already satisfied: fonttools>=4.22.0 in /usr/local/lib/python3.11/dist-packages (from matplotlib->catboost) (4.56.0)\n",
            "Requirement already satisfied: kiwisolver>=1.3.1 in /usr/local/lib/python3.11/dist-packages (from matplotlib->catboost) (1.4.8)\n",
            "Requirement already satisfied: packaging>=20.0 in /usr/local/lib/python3.11/dist-packages (from matplotlib->catboost) (24.2)\n",
            "Requirement already satisfied: pillow>=8 in /usr/local/lib/python3.11/dist-packages (from matplotlib->catboost) (11.1.0)\n",
            "Requirement already satisfied: pyparsing>=2.3.1 in /usr/local/lib/python3.11/dist-packages (from matplotlib->catboost) (3.2.3)\n",
            "Requirement already satisfied: tenacity>=6.2.0 in /usr/local/lib/python3.11/dist-packages (from plotly->catboost) (9.1.2)\n",
            "Downloading pip_system_certs-4.0-py2.py3-none-any.whl (6.1 kB)\n",
            "Downloading striprtf-0.0.29-py3-none-any.whl (7.9 kB)\n",
            "Downloading catboost-1.2.7-cp311-cp311-manylinux2014_x86_64.whl (98.7 MB)\n",
            "\u001b[2K   \u001b[90m━━━━━━━━━━━━━━━━━━━━━━━━━━━━━━━━━━━━━━━━\u001b[0m \u001b[32m98.7/98.7 MB\u001b[0m \u001b[31m5.0 MB/s\u001b[0m eta \u001b[36m0:00:00\u001b[0m\n",
            "\u001b[?25hInstalling collected packages: striprtf, pip-system-certs, catboost\n",
            "Successfully installed catboost-1.2.7 pip-system-certs-4.0 striprtf-0.0.29\n"
          ]
        }
      ]
    },
    {
      "cell_type": "markdown",
      "source": [
        "### Dataset creation"
      ],
      "metadata": {
        "id": "KzhbIP2P5qoi"
      }
    },
    {
      "cell_type": "code",
      "source": [
        "from dataset_preparation import get_all_data"
      ],
      "metadata": {
        "id": "aoia3orFc13E"
      },
      "execution_count": 3,
      "outputs": []
    },
    {
      "cell_type": "code",
      "source": [
        "url = \"https://people.rc.rit.edu/bsm9339/corpora/squinky_corpus/mturk_merged.csv\" # squinky dataset link\n",
        "filenames = ['formal_sentences.rtf', 'informal_sentences.rtf', 'middle_sentences.rtf'] # gpt responses\n",
        "\n",
        "all_data = get_all_data(url, filenames)"
      ],
      "metadata": {
        "id": "6lmindjuBbjD"
      },
      "execution_count": 4,
      "outputs": []
    },
    {
      "cell_type": "markdown",
      "source": [
        "\n",
        "### Models"
      ],
      "metadata": {
        "id": "MTgKRJ2MCFMW"
      }
    },
    {
      "cell_type": "markdown",
      "source": [
        "DeBerta model creation:"
      ],
      "metadata": {
        "id": "ilxU6PrvUCA0"
      }
    },
    {
      "cell_type": "code",
      "execution_count": 5,
      "metadata": {
        "id": "lapFyJZYsyPV",
        "colab": {
          "base_uri": "https://localhost:8080/",
          "height": 363,
          "referenced_widgets": [
            "d144be23d4b74bec8ec6d35be77e45b7",
            "93caad10f541433caad8f068db838892",
            "9f6b41f910754526a5fa8d7351b8277f",
            "eb0622eb03d94019990574eabc0eed0b",
            "6a83b26bf6c04b6db1f40a0c368b9830",
            "e5279f929b144cacbf7973a43444c4e1",
            "47f5ad9176e84fe9ada55c02bfb74deb",
            "34c8e335e6b641b0bcc80a4e801604ab",
            "a12d715bdd3f446dad6c8f76a7f9ae7b",
            "5a3f7d04a981447683d1096e3c8e6ab4",
            "bafa0dab3b1e4697ad0e36ed40cb8479",
            "ed3379338aca4769b78e10bc0a011e25",
            "efbc8b8d2a1d4be5b291cff9cc93c02b",
            "827de2ea33334ddb8b61497f7bab6b46",
            "500991f28e2f45a18fc0c5830e67605e",
            "696b42febbf84e75b73a2b50e859825e",
            "2f242239f0df4ad98b49df8dcd0b9130",
            "e7559c26bb1347888c8d7a3de24f9c03",
            "e4ea677bb2bf4f58802ea9284b237ebd",
            "043f5b44275146938114a1cf9ee9387c",
            "48d1137ea5ad41329803c7646f2260dd",
            "1bce4e66ec8e45f2b33e91dfda892d80",
            "fe1c784ade2a4d5e881f9343c5d32a56",
            "5413f31b963b47e4b21cad3336f00eb8",
            "1ffbe35088d64077a12c11ab0ac09a06",
            "2f83198b940d4837ac78a5b0b3931a85",
            "6a356ad22435474c9e190b06b6e576f7",
            "f7b02cb13a6a4d78a6d82e35b11e5a08",
            "01a6ac87fbc441ed9f685e24e5954cd6",
            "5d16301aade54d5390db37988fde0f2c",
            "cb9cf816356a4c8a9b09d9cd325a7d19",
            "cc832eaab2dd400fb7f08a67d7857f66",
            "99137dd89e744394b0dadc528a143649",
            "55ebf6be57ba469b8e0708ad2ef66408",
            "b04bda6a37e643b2ae84442e413a2a6d",
            "9b4d4e99507c4017af73051e6659de1a",
            "a1864095bf804b609b0ed548f92d507e",
            "8622a6caf56149a7ad1c319b0af6fc48",
            "614a8f33ad514293beeaa5bbf8a917c1",
            "abadb0365778499e968d0063c6d01e0d",
            "27a2b8b3c1f54d5db9b58c73c17994d1",
            "d04cdbf584ce473185a11b749daaa16f",
            "014127136f1946a4b841e3d598c2c63e",
            "189502a3698641d380bd8cb7cd44da7a",
            "45790edb285241639bb0fddb0a18f7f4",
            "7d2b5be610d54b68852f6857a51fe1ce",
            "d530088673e94f4c90013adf53b93a58",
            "de25ff5220a24351807f45a033429f99",
            "4aec2ce77f0c48c096a791b404a59e5f",
            "51145e00f8f249f39bfaf51e92150f63",
            "c0270ebb83bf4107b6ddda4423d737cd",
            "6bc4100817d74fc49b5c0ea7328f0e4b",
            "1e50ecafecc6419bb018e0f20b481f0d",
            "0fcc8bafb8bf4233beb7a8d4d2bd0fbd",
            "da28741217584fc596b30c1bce519dbc",
            "5667db11f3b649beaa52aa43201c5251",
            "ade0c60ec31744f7a528ddbd0d3752df",
            "5bb6f36b62e1447cb296bf14053d00b9",
            "06691e170bdf40b49b42027d2fcfa2a3",
            "0b4a53201c564f64a8875667c1939e2a",
            "6decb0c8688643b8bd73bb6fe1a4f77b",
            "b9ad3d29554946bd8c55968d8ab60c53",
            "2a045695a4784809a843dd05c4ff5d86",
            "15111bf253c444feb1b83bc47bac3e44",
            "7645100741954aaa8b010df54516ab4f",
            "9b5e36bb0ab145b091092c81407630f1",
            "4761b67e5e4c40f9844c9840e9b1af6d",
            "a839f8b2556c47b9b0ae6d2e7ae30137",
            "cdc73f2f4e5940cb86bd3d8fc2129c48",
            "204b489e0aa84dbfb197f0a65be5c6e8",
            "c30d7eab33ea4981b55b3cb5b673ffd8",
            "d1ac1419532143ba82581fa1a0485681",
            "3e4073c839f7494886d4021d7e6fa56a",
            "88268679f947489d88485e99c479f0f1",
            "9cb0958f5adc49998e3e8332c6256805",
            "68ec2e0e2e5048b0a0609e7007b30fac",
            "8e93c5f6925a4e58b76d84e057d8d133"
          ]
        },
        "outputId": "d26139a8-420a-4d09-ff4b-44fe349fe241"
      },
      "outputs": [
        {
          "output_type": "stream",
          "name": "stderr",
          "text": [
            "/usr/local/lib/python3.11/dist-packages/huggingface_hub/utils/_auth.py:94: UserWarning: \n",
            "The secret `HF_TOKEN` does not exist in your Colab secrets.\n",
            "To authenticate with the Hugging Face Hub, create a token in your settings tab (https://huggingface.co/settings/tokens), set it as secret in your Google Colab and restart your session.\n",
            "You will be able to reuse this secret in all of your notebooks.\n",
            "Please note that authentication is recommended but still optional to access public models or datasets.\n",
            "  warnings.warn(\n"
          ]
        },
        {
          "output_type": "display_data",
          "data": {
            "text/plain": [
              "tokenizer_config.json:   0%|          | 0.00/1.40k [00:00<?, ?B/s]"
            ],
            "application/vnd.jupyter.widget-view+json": {
              "version_major": 2,
              "version_minor": 0,
              "model_id": "d144be23d4b74bec8ec6d35be77e45b7"
            }
          },
          "metadata": {}
        },
        {
          "output_type": "display_data",
          "data": {
            "text/plain": [
              "vocab.json:   0%|          | 0.00/798k [00:00<?, ?B/s]"
            ],
            "application/vnd.jupyter.widget-view+json": {
              "version_major": 2,
              "version_minor": 0,
              "model_id": "ed3379338aca4769b78e10bc0a011e25"
            }
          },
          "metadata": {}
        },
        {
          "output_type": "display_data",
          "data": {
            "text/plain": [
              "merges.txt:   0%|          | 0.00/456k [00:00<?, ?B/s]"
            ],
            "application/vnd.jupyter.widget-view+json": {
              "version_major": 2,
              "version_minor": 0,
              "model_id": "fe1c784ade2a4d5e881f9343c5d32a56"
            }
          },
          "metadata": {}
        },
        {
          "output_type": "display_data",
          "data": {
            "text/plain": [
              "tokenizer.json:   0%|          | 0.00/2.11M [00:00<?, ?B/s]"
            ],
            "application/vnd.jupyter.widget-view+json": {
              "version_major": 2,
              "version_minor": 0,
              "model_id": "55ebf6be57ba469b8e0708ad2ef66408"
            }
          },
          "metadata": {}
        },
        {
          "output_type": "display_data",
          "data": {
            "text/plain": [
              "special_tokens_map.json:   0%|          | 0.00/963 [00:00<?, ?B/s]"
            ],
            "application/vnd.jupyter.widget-view+json": {
              "version_major": 2,
              "version_minor": 0,
              "model_id": "45790edb285241639bb0fddb0a18f7f4"
            }
          },
          "metadata": {}
        },
        {
          "output_type": "display_data",
          "data": {
            "text/plain": [
              "config.json:   0%|          | 0.00/790 [00:00<?, ?B/s]"
            ],
            "application/vnd.jupyter.widget-view+json": {
              "version_major": 2,
              "version_minor": 0,
              "model_id": "5667db11f3b649beaa52aa43201c5251"
            }
          },
          "metadata": {}
        },
        {
          "output_type": "display_data",
          "data": {
            "text/plain": [
              "model.safetensors:   0%|          | 0.00/1.62G [00:00<?, ?B/s]"
            ],
            "application/vnd.jupyter.widget-view+json": {
              "version_major": 2,
              "version_minor": 0,
              "model_id": "4761b67e5e4c40f9844c9840e9b1af6d"
            }
          },
          "metadata": {}
        }
      ],
      "source": [
        "from transformers import AutoModelForSequenceClassification, AutoTokenizer\n",
        "import torch\n",
        "\n",
        "\n",
        "model_name = 's-nlp/deberta-large-formality-ranker'\n",
        "device = torch.device('cuda') if torch.cuda.is_available() else torch.device('cpu')\n",
        "deberta_tokenizer = AutoTokenizer.from_pretrained(model_name)\n",
        "deberta = AutoModelForSequenceClassification.from_pretrained(model_name).to(device)\n"
      ]
    },
    {
      "cell_type": "markdown",
      "source": [
        "XLM-Roberta-based classifier creation:"
      ],
      "metadata": {
        "id": "FusUEJPsZcmm"
      }
    },
    {
      "cell_type": "code",
      "source": [
        "from transformers import XLMRobertaTokenizerFast, XLMRobertaForSequenceClassification\n",
        "\n",
        "\n",
        "roberta_tokenizer = XLMRobertaTokenizerFast.from_pretrained('s-nlp/xlmr_formality_classifier')\n",
        "roberta = XLMRobertaForSequenceClassification.from_pretrained('s-nlp/xlmr_formality_classifier').to(device)"
      ],
      "metadata": {
        "colab": {
          "base_uri": "https://localhost:8080/",
          "height": 177,
          "referenced_widgets": [
            "b21645bb64b64d48a480881e874e12db",
            "1ca439d33d0f41bea6d2917f00b818bc",
            "27a82cae7c2c4729bd8778a26581f37a",
            "093aae7f33f545a3b4455ba8852751df",
            "1d6d4520bc084e1ba654adf7c83a2884",
            "255b79828c53483289103d66a4c176d9",
            "fd8dd03ceec84ebcac6741f483350b9c",
            "ecf118a7814f4308a8def730f5989efa",
            "ca16b19796e74bcca4031ad7414000ec",
            "d498b844fd9c498ba7d902269984ecc5",
            "63044cc05d6844e7a7e6c3852f833c3a",
            "05e68b82232847bb885e7de3024c917b",
            "a57e77f0a1d240849bffd792c28aa26a",
            "d29f514aa65c42bdb3f93d6862ffb7cc",
            "0c75d36e6a9c4376811d25ff4a4e2431",
            "c02ce478f30f4977a51cbf04d71daba7",
            "f1d1eae231234d5f9be617a7f0f7ba90",
            "fffd4f7cdad24082b03dbfbd9d3808a2",
            "69855f9bf9024aa7b281781bee8c2a25",
            "1fd5b1dde42a440687aa2f9c77f1a50c",
            "659b9d8975e04b8c8627b6a68fc62435",
            "72ed0fd85d464790a0af42308f4ec743",
            "23338e2eb65643df85126baa414e3425",
            "737a2ca0b508414eb73c73f9dc04eb88",
            "77e9950427e0403e875fe71c666c3739",
            "d7ed0c8ec9514e518ad2eea943289410",
            "9ed50e9d4b42498198efbd84e50b50a8",
            "79c02d695206472b8dbc7a4339b83c35",
            "b2ed2164c4c34d3fbad450788e14174d",
            "76e5056aa19843328e8e5e37c2f6787a",
            "1e77f5d33def4e24b3df9c1ab7e867ee",
            "05582dd93fdb4398b330a03bca2ac7f3",
            "8e01c6f666a3455f9979d70a355c30de",
            "e47bbc0da78540438b5ff500e0e038ea",
            "81b00ee9925f410092aadccc9b4f6b1e",
            "088410de8bf44f69be57b8de1631d13d",
            "2606ae02aa04478bb2af2f6f1663d6eb",
            "b952832f0e6e409f871b2b057ec11d27",
            "24c9dd40f09f47abbbbcc725181c30b9",
            "d048a184ab7c49f0a2ace221a34b36b7",
            "893fab9714c84b99a1d9921dbc409c6c",
            "edf865b43ab94a83a4eddbf803d16c5e",
            "dce2de1a05674edcb9b58594a3bbd164",
            "d3f25a3313f145e3a81e6b922553e2a0",
            "19d5d3b630904200a77f26ada2a3d3f2",
            "54b5d27e11b44c4aaf5fce49f1a4b023",
            "36d33944ef4642809ceb3845c55f1257",
            "eebbceea8da649ef89a5ceb1de7b3844",
            "7e065f4feac0429da6e3d77132a4aee3",
            "216d9f55856a46f9aad11ff761f3418b",
            "afd9e68db12f4eb8b149e73fef72bb83",
            "2598566acbb442ccb22b96403100842e",
            "af01edb7c64d46ac8e979e8a7562c21e",
            "d09aa82791444ce69b0b00e1af9a37f5",
            "8bec5207c86a4f679c77e0a28961e8a8"
          ]
        },
        "id": "0_JsXj8IZnCi",
        "outputId": "6563d424-8d16-4f21-99f5-118e01607415"
      },
      "execution_count": 6,
      "outputs": [
        {
          "output_type": "display_data",
          "data": {
            "text/plain": [
              "tokenizer_config.json:   0%|          | 0.00/398 [00:00<?, ?B/s]"
            ],
            "application/vnd.jupyter.widget-view+json": {
              "version_major": 2,
              "version_minor": 0,
              "model_id": "b21645bb64b64d48a480881e874e12db"
            }
          },
          "metadata": {}
        },
        {
          "output_type": "display_data",
          "data": {
            "text/plain": [
              "tokenizer.json:   0%|          | 0.00/9.08M [00:00<?, ?B/s]"
            ],
            "application/vnd.jupyter.widget-view+json": {
              "version_major": 2,
              "version_minor": 0,
              "model_id": "05e68b82232847bb885e7de3024c917b"
            }
          },
          "metadata": {}
        },
        {
          "output_type": "display_data",
          "data": {
            "text/plain": [
              "special_tokens_map.json:   0%|          | 0.00/239 [00:00<?, ?B/s]"
            ],
            "application/vnd.jupyter.widget-view+json": {
              "version_major": 2,
              "version_minor": 0,
              "model_id": "23338e2eb65643df85126baa414e3425"
            }
          },
          "metadata": {}
        },
        {
          "output_type": "display_data",
          "data": {
            "text/plain": [
              "config.json:   0%|          | 0.00/896 [00:00<?, ?B/s]"
            ],
            "application/vnd.jupyter.widget-view+json": {
              "version_major": 2,
              "version_minor": 0,
              "model_id": "e47bbc0da78540438b5ff500e0e038ea"
            }
          },
          "metadata": {}
        },
        {
          "output_type": "display_data",
          "data": {
            "text/plain": [
              "model.safetensors:   0%|          | 0.00/1.11G [00:00<?, ?B/s]"
            ],
            "application/vnd.jupyter.widget-view+json": {
              "version_major": 2,
              "version_minor": 0,
              "model_id": "19d5d3b630904200a77f26ada2a3d3f2"
            }
          },
          "metadata": {}
        }
      ]
    },
    {
      "cell_type": "markdown",
      "source": [
        "### Catboost"
      ],
      "metadata": {
        "id": "2K8qWaonL_5o"
      }
    },
    {
      "cell_type": "markdown",
      "source": [
        "Catboost datasets creation:"
      ],
      "metadata": {
        "id": "T1pkT1XsRN4D"
      }
    },
    {
      "cell_type": "code",
      "source": [
        "from dataset_preparation import catboost_data_preparation\n",
        "\n",
        "X_train, X_test, y_train, y_test = catboost_data_preparation(all_data)"
      ],
      "metadata": {
        "id": "u6cxNPNDe6qP"
      },
      "execution_count": 7,
      "outputs": []
    },
    {
      "cell_type": "markdown",
      "source": [
        "Training and inference step:"
      ],
      "metadata": {
        "id": "gBJJcrbWRV-V"
      }
    },
    {
      "cell_type": "code",
      "source": [
        "from catboost import CatBoostClassifier\n",
        "\n",
        "catboost = CatBoostClassifier(verbose=0)\n",
        "catboost.fit(X_train, y_train)"
      ],
      "metadata": {
        "colab": {
          "base_uri": "https://localhost:8080/"
        },
        "id": "SOJx1etYfCdJ",
        "outputId": "0204bc1f-d4df-42fb-9004-855153a9b762"
      },
      "execution_count": 8,
      "outputs": [
        {
          "output_type": "execute_result",
          "data": {
            "text/plain": [
              "<catboost.core.CatBoostClassifier at 0x7dc293f15890>"
            ]
          },
          "metadata": {},
          "execution_count": 8
        }
      ]
    },
    {
      "cell_type": "markdown",
      "source": [
        "Prediction:"
      ],
      "metadata": {
        "id": "2nnj1WhSexYH"
      }
    },
    {
      "cell_type": "code",
      "source": [
        "y_pred = catboost.predict(X_test)"
      ],
      "metadata": {
        "id": "7PdK9SNFcvc6"
      },
      "execution_count": 9,
      "outputs": []
    },
    {
      "cell_type": "markdown",
      "source": [
        "### Metrics\n",
        "\n",
        "\n"
      ],
      "metadata": {
        "id": "Jmjd3BAtTh46"
      }
    },
    {
      "cell_type": "markdown",
      "source": [
        "Quality estimation. First you have to create a dataloader, then simply run the evaluation process. It prints evaluation report."
      ],
      "metadata": {
        "id": "H4NhqKE7aei6"
      }
    },
    {
      "cell_type": "code",
      "source": [
        "input_data = all_data['sentence'].to_list()\n",
        "labels = all_data['class'].to_list()\n",
        "\n",
        "\n",
        "listed_data = list(zip(input_data, labels))"
      ],
      "metadata": {
        "id": "-ENGet82T2tm"
      },
      "execution_count": 10,
      "outputs": []
    },
    {
      "cell_type": "code",
      "source": [
        "from torch.utils.data import DataLoader\n",
        "\n",
        "val_loader = DataLoader(listed_data, shuffle=False, batch_size = 50)"
      ],
      "metadata": {
        "id": "Qe7Zok3DT6hB"
      },
      "execution_count": 11,
      "outputs": []
    },
    {
      "cell_type": "code",
      "source": [
        "from evaluation import evaluate_model"
      ],
      "metadata": {
        "id": "_O0icbpbceRq"
      },
      "execution_count": 12,
      "outputs": []
    },
    {
      "cell_type": "code",
      "source": [
        "device = torch.device('cuda') if torch.cuda.is_available() else torch.device('cpu')"
      ],
      "metadata": {
        "id": "yhc4UpbNgOKk"
      },
      "execution_count": 13,
      "outputs": []
    },
    {
      "cell_type": "code",
      "source": [
        "evaluate_model(deberta, deberta_tokenizer,  val_loader, device)"
      ],
      "metadata": {
        "colab": {
          "base_uri": "https://localhost:8080/"
        },
        "id": "fCoW1_-ujKww",
        "outputId": "102f5aa8-a148-466d-d114-65fec76cdaa4"
      },
      "execution_count": 14,
      "outputs": [
        {
          "output_type": "stream",
          "name": "stderr",
          "text": [
            "100%|██████████| 156/156 [00:38<00:00,  4.06it/s]\n"
          ]
        },
        {
          "output_type": "stream",
          "name": "stdout",
          "text": [
            "              precision    recall  f1-score   support\n",
            "\n",
            "      formal       0.80      0.77      0.78      4056\n",
            "    informal       0.76      0.79      0.78      3744\n",
            "\n",
            "    accuracy                           0.78      7800\n",
            "   macro avg       0.78      0.78      0.78      7800\n",
            "weighted avg       0.78      0.78      0.78      7800\n",
            "\n"
          ]
        }
      ]
    },
    {
      "cell_type": "code",
      "source": [
        "evaluate_model(roberta, roberta_tokenizer, val_loader, device)"
      ],
      "metadata": {
        "colab": {
          "base_uri": "https://localhost:8080/"
        },
        "id": "o6gY70RHKoFT",
        "outputId": "c3f981f5-bdf2-4b50-eefa-372d5ad7600a"
      },
      "execution_count": 15,
      "outputs": [
        {
          "output_type": "stream",
          "name": "stderr",
          "text": [
            "100%|██████████| 156/156 [00:10<00:00, 14.77it/s]\n"
          ]
        },
        {
          "output_type": "stream",
          "name": "stdout",
          "text": [
            "              precision    recall  f1-score   support\n",
            "\n",
            "      formal       0.76      0.50      0.60      4056\n",
            "    informal       0.61      0.83      0.70      3744\n",
            "\n",
            "    accuracy                           0.66      7800\n",
            "   macro avg       0.69      0.67      0.65      7800\n",
            "weighted avg       0.69      0.66      0.65      7800\n",
            "\n"
          ]
        }
      ]
    },
    {
      "cell_type": "markdown",
      "source": [
        "To estimate CatboosrClassifier one has to just run `classification_report` function from `sklearn`"
      ],
      "metadata": {
        "id": "R17cUm_ogsVC"
      }
    },
    {
      "cell_type": "code",
      "source": [
        "from sklearn.metrics import classification_report\n",
        "\n",
        "print(classification_report(y_test.to_list(), y_pred, target_names=['formal', 'informal']))"
      ],
      "metadata": {
        "colab": {
          "base_uri": "https://localhost:8080/"
        },
        "id": "TyCx0HDsKqQd",
        "outputId": "1aa72542-435c-48dd-a10c-5e1b1744d5d1"
      },
      "execution_count": 16,
      "outputs": [
        {
          "output_type": "stream",
          "name": "stdout",
          "text": [
            "              precision    recall  f1-score   support\n",
            "\n",
            "      formal       0.82      0.83      0.83       777\n",
            "    informal       0.83      0.82      0.83       780\n",
            "\n",
            "    accuracy                           0.83      1557\n",
            "   macro avg       0.83      0.83      0.83      1557\n",
            "weighted avg       0.83      0.83      0.83      1557\n",
            "\n"
          ]
        }
      ]
    }
  ]
}