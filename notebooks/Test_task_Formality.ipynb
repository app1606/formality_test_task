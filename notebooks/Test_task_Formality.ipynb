{
  "nbformat": 4,
  "nbformat_minor": 0,
  "metadata": {
    "colab": {
      "provenance": []
    },
    "kernelspec": {
      "name": "python3",
      "display_name": "Python 3"
    },
    "language_info": {
      "name": "python"
    }
  },
  "cells": [
    {
      "cell_type": "markdown",
      "source": [
        "### Numpy installation"
      ],
      "metadata": {
        "id": "VjV7EAAviyho"
      }
    },
    {
      "cell_type": "code",
      "source": [
        "! pip uninstall numpy"
      ],
      "metadata": {
        "colab": {
          "base_uri": "https://localhost:8080/"
        },
        "id": "fvW9iOxii2NT",
        "outputId": "71e34ec2-b1cd-4bbc-80b1-1d4c2defccf1"
      },
      "execution_count": null,
      "outputs": [
        {
          "output_type": "stream",
          "name": "stdout",
          "text": [
            "Found existing installation: numpy 2.0.2\n",
            "Uninstalling numpy-2.0.2:\n",
            "  Would remove:\n",
            "    /usr/local/bin/f2py\n",
            "    /usr/local/bin/numpy-config\n",
            "    /usr/local/lib/python3.11/dist-packages/numpy-2.0.2.dist-info/*\n",
            "    /usr/local/lib/python3.11/dist-packages/numpy.libs/libgfortran-040039e1-0352e75f.so.5.0.0\n",
            "    /usr/local/lib/python3.11/dist-packages/numpy.libs/libquadmath-96973f99-934c22de.so.0.0.0\n",
            "    /usr/local/lib/python3.11/dist-packages/numpy.libs/libscipy_openblas64_-99b71e71.so\n",
            "    /usr/local/lib/python3.11/dist-packages/numpy/*\n",
            "Proceed (Y/n)? "
          ]
        }
      ]
    },
    {
      "cell_type": "code",
      "source": [
        "! pip install numpy==1.26.4"
      ],
      "metadata": {
        "colab": {
          "base_uri": "https://localhost:8080/"
        },
        "id": "VuaO1_-8i2nC",
        "outputId": "775969f6-1faf-4499-c74d-0d9a35809024"
      },
      "execution_count": null,
      "outputs": [
        {
          "output_type": "stream",
          "name": "stdout",
          "text": [
            "Collecting numpy==1.26.4\n",
            "  Downloading numpy-1.26.4-cp311-cp311-manylinux_2_17_x86_64.manylinux2014_x86_64.whl.metadata (61 kB)\n",
            "\u001b[?25l     \u001b[90m━━━━━━━━━━━━━━━━━━━━━━━━━━━━━━━━━━━━━━━━\u001b[0m \u001b[32m0.0/61.0 kB\u001b[0m \u001b[31m?\u001b[0m eta \u001b[36m-:--:--\u001b[0m\r\u001b[2K     \u001b[90m━━━━━━━━━━━━━━━━━━━━━━━━━━━━━━━━━━━━━━━━\u001b[0m \u001b[32m61.0/61.0 kB\u001b[0m \u001b[31m2.3 MB/s\u001b[0m eta \u001b[36m0:00:00\u001b[0m\n",
            "\u001b[?25hDownloading numpy-1.26.4-cp311-cp311-manylinux_2_17_x86_64.manylinux2014_x86_64.whl (18.3 MB)\n",
            "\u001b[2K   \u001b[90m━━━━━━━━━━━━━━━━━━━━━━━━━━━━━━━━━━━━━━━━\u001b[0m \u001b[32m18.3/18.3 MB\u001b[0m \u001b[31m68.8 MB/s\u001b[0m eta \u001b[36m0:00:00\u001b[0m\n",
            "\u001b[?25hInstalling collected packages: numpy\n",
            "Successfully installed numpy-1.26.4\n"
          ]
        }
      ]
    },
    {
      "cell_type": "code",
      "source": [
        "import numpy as np\n",
        "print(np.__version__)"
      ],
      "metadata": {
        "colab": {
          "base_uri": "https://localhost:8080/"
        },
        "id": "C7duQVlzi6hn",
        "outputId": "803d7930-a535-446f-b88f-07be22c5a130"
      },
      "execution_count": null,
      "outputs": [
        {
          "output_type": "stream",
          "name": "stdout",
          "text": [
            "1.26.4\n"
          ]
        }
      ]
    },
    {
      "cell_type": "markdown",
      "source": [
        "If for some reason it's not equal to 1.26.4, please restart the notebook. It's important to run the catboost classification.\n",
        "\n",
        "It seems that current version of catboost is not compatible with numpy 2.x."
      ],
      "metadata": {
        "id": "H6tmgwhkjAQe"
      }
    },
    {
      "cell_type": "markdown",
      "source": [
        "### Dataset creation"
      ],
      "metadata": {
        "id": "KzhbIP2P5qoi"
      }
    },
    {
      "cell_type": "markdown",
      "source": [
        "Probably the most important and interesting part of this task: where to find data?\n",
        "\n",
        "There are datasets like GYAFC, but this one's not publicly available. During my research, I've managed to locate the link to the SQUINKY! dataset. Not sure if it's public or not, but [here](https://people.rc.rit.edu/bsm9339/corpora/squinky_corpus/mturk_merged.csv) it is. Cheers to [this](https://github.com/meyersbs/squinky) guy for leaving links in the repository.\n",
        "\n",
        "We're interested in column 'formality' that estimates the formality of a sentence on a scale from 1 to 7. Since we solve a classification task, a threshold selection for this dataset will be chosen later on. This threshold would allow us to separate two classes.\n",
        "\n",
        "The dataset is quite old, so I've got an idea to use modern LLM's to help me acquire data. I've asked ChatGPT to generate me a diverse set of 250 strictly formal, 250 very informal phrases. I've also asked it to generate 250 sentences that are somewhere in the middle. I've asked GPT to tell if those are more formal or informal.\n",
        "\n",
        "So, this would be my data. A few ideas that could've been implemented: fan fiction books tend to be very informal, so sentences from these might be useful. Some SMS/messengers data might be useful as well (if it's legal).\n",
        "\n"
      ],
      "metadata": {
        "id": "vfBhel3V5vl7"
      }
    },
    {
      "cell_type": "code",
      "source": [
        "! pip install pip-system-certs"
      ],
      "metadata": {
        "colab": {
          "base_uri": "https://localhost:8080/"
        },
        "id": "6lmindjuBbjD",
        "outputId": "e5742fa9-14e8-493e-f0b4-7bbebcdde0ac"
      },
      "execution_count": null,
      "outputs": [
        {
          "output_type": "stream",
          "name": "stdout",
          "text": [
            "Collecting pip-system-certs\n",
            "  Downloading pip_system_certs-4.0-py2.py3-none-any.whl.metadata (1.6 kB)\n",
            "Requirement already satisfied: wrapt>=1.10.4 in /usr/local/lib/python3.11/dist-packages (from pip-system-certs) (1.17.2)\n",
            "Downloading pip_system_certs-4.0-py2.py3-none-any.whl (6.1 kB)\n",
            "Installing collected packages: pip-system-certs\n",
            "Successfully installed pip-system-certs-4.0\n"
          ]
        }
      ]
    },
    {
      "cell_type": "code",
      "source": [
        "import pandas as pd\n",
        "import ssl\n",
        "\n",
        "ssl._create_default_https_context = ssl._create_unverified_context # some stuff to pass ssl certificate errors\n",
        "\n",
        "url = \"https://people.rc.rit.edu/bsm9339/corpora/squinky_corpus/mturk_merged.csv\"\n",
        "squinky_data = pd.read_csv(url)"
      ],
      "metadata": {
        "id": "dXXJst5m5u1v"
      },
      "execution_count": null,
      "outputs": []
    },
    {
      "cell_type": "code",
      "source": [
        "squinky_data"
      ],
      "metadata": {
        "colab": {
          "base_uri": "https://localhost:8080/",
          "height": 419
        },
        "id": "k4K1iSgAB_k5",
        "outputId": "46c5f825-e486-44a3-cfb8-f9d06ff297a4"
      },
      "execution_count": null,
      "outputs": [
        {
          "output_type": "execute_result",
          "data": {
            "text/plain": [
              "        id  formality  informativeness  implicature  \\\n",
              "0        0        6.0              6.1          3.8   \n",
              "1        1        5.6              6.1          3.3   \n",
              "2        2        5.5              6.0          4.2   \n",
              "3        3        5.0              5.1          3.3   \n",
              "4        4        5.1              5.0          3.0   \n",
              "...    ...        ...              ...          ...   \n",
              "7027  7031        2.6              2.2          4.4   \n",
              "7028  7032        1.7              2.1          4.8   \n",
              "7029  7033        4.9              5.4          3.7   \n",
              "7030  7034        5.5              5.9          3.7   \n",
              "7031  7035        2.6              3.6          3.4   \n",
              "\n",
              "                                               sentence  \n",
              "0     10In High Bay 4 of the Vehicle Assembly Buildi...  \n",
              "1     12The oxygen vent arm and hood removed from th...  \n",
              "2     13In the Rotation, Processing and Surge Facili...  \n",
              "3     14In the Vehicle Assembly Building's High Bay ...  \n",
              "4     15In the Vehicle Assembly Building's High Bay ...  \n",
              "...                                                 ...  \n",
              "7027                              Let's hope it's true.  \n",
              "7028                   Cheer up, Sony (NYSE: SNE) fans.  \n",
              "7029  Wired is one of the few publications that acts...  \n",
              "7030  As NewsBusters reported Friday, conservative t...  \n",
              "7031              Pumpkins from Simon Willcox on Vimeo.  \n",
              "\n",
              "[7032 rows x 5 columns]"
            ],
            "text/html": [
              "\n",
              "  <div id=\"df-7da488ac-cd5a-4dcf-b296-469065a5cdb8\" class=\"colab-df-container\">\n",
              "    <div>\n",
              "<style scoped>\n",
              "    .dataframe tbody tr th:only-of-type {\n",
              "        vertical-align: middle;\n",
              "    }\n",
              "\n",
              "    .dataframe tbody tr th {\n",
              "        vertical-align: top;\n",
              "    }\n",
              "\n",
              "    .dataframe thead th {\n",
              "        text-align: right;\n",
              "    }\n",
              "</style>\n",
              "<table border=\"1\" class=\"dataframe\">\n",
              "  <thead>\n",
              "    <tr style=\"text-align: right;\">\n",
              "      <th></th>\n",
              "      <th>id</th>\n",
              "      <th>formality</th>\n",
              "      <th>informativeness</th>\n",
              "      <th>implicature</th>\n",
              "      <th>sentence</th>\n",
              "    </tr>\n",
              "  </thead>\n",
              "  <tbody>\n",
              "    <tr>\n",
              "      <th>0</th>\n",
              "      <td>0</td>\n",
              "      <td>6.0</td>\n",
              "      <td>6.1</td>\n",
              "      <td>3.8</td>\n",
              "      <td>10In High Bay 4 of the Vehicle Assembly Buildi...</td>\n",
              "    </tr>\n",
              "    <tr>\n",
              "      <th>1</th>\n",
              "      <td>1</td>\n",
              "      <td>5.6</td>\n",
              "      <td>6.1</td>\n",
              "      <td>3.3</td>\n",
              "      <td>12The oxygen vent arm and hood removed from th...</td>\n",
              "    </tr>\n",
              "    <tr>\n",
              "      <th>2</th>\n",
              "      <td>2</td>\n",
              "      <td>5.5</td>\n",
              "      <td>6.0</td>\n",
              "      <td>4.2</td>\n",
              "      <td>13In the Rotation, Processing and Surge Facili...</td>\n",
              "    </tr>\n",
              "    <tr>\n",
              "      <th>3</th>\n",
              "      <td>3</td>\n",
              "      <td>5.0</td>\n",
              "      <td>5.1</td>\n",
              "      <td>3.3</td>\n",
              "      <td>14In the Vehicle Assembly Building's High Bay ...</td>\n",
              "    </tr>\n",
              "    <tr>\n",
              "      <th>4</th>\n",
              "      <td>4</td>\n",
              "      <td>5.1</td>\n",
              "      <td>5.0</td>\n",
              "      <td>3.0</td>\n",
              "      <td>15In the Vehicle Assembly Building's High Bay ...</td>\n",
              "    </tr>\n",
              "    <tr>\n",
              "      <th>...</th>\n",
              "      <td>...</td>\n",
              "      <td>...</td>\n",
              "      <td>...</td>\n",
              "      <td>...</td>\n",
              "      <td>...</td>\n",
              "    </tr>\n",
              "    <tr>\n",
              "      <th>7027</th>\n",
              "      <td>7031</td>\n",
              "      <td>2.6</td>\n",
              "      <td>2.2</td>\n",
              "      <td>4.4</td>\n",
              "      <td>Let's hope it's true.</td>\n",
              "    </tr>\n",
              "    <tr>\n",
              "      <th>7028</th>\n",
              "      <td>7032</td>\n",
              "      <td>1.7</td>\n",
              "      <td>2.1</td>\n",
              "      <td>4.8</td>\n",
              "      <td>Cheer up, Sony (NYSE: SNE) fans.</td>\n",
              "    </tr>\n",
              "    <tr>\n",
              "      <th>7029</th>\n",
              "      <td>7033</td>\n",
              "      <td>4.9</td>\n",
              "      <td>5.4</td>\n",
              "      <td>3.7</td>\n",
              "      <td>Wired is one of the few publications that acts...</td>\n",
              "    </tr>\n",
              "    <tr>\n",
              "      <th>7030</th>\n",
              "      <td>7034</td>\n",
              "      <td>5.5</td>\n",
              "      <td>5.9</td>\n",
              "      <td>3.7</td>\n",
              "      <td>As NewsBusters reported Friday, conservative t...</td>\n",
              "    </tr>\n",
              "    <tr>\n",
              "      <th>7031</th>\n",
              "      <td>7035</td>\n",
              "      <td>2.6</td>\n",
              "      <td>3.6</td>\n",
              "      <td>3.4</td>\n",
              "      <td>Pumpkins from Simon Willcox on Vimeo.</td>\n",
              "    </tr>\n",
              "  </tbody>\n",
              "</table>\n",
              "<p>7032 rows × 5 columns</p>\n",
              "</div>\n",
              "    <div class=\"colab-df-buttons\">\n",
              "\n",
              "  <div class=\"colab-df-container\">\n",
              "    <button class=\"colab-df-convert\" onclick=\"convertToInteractive('df-7da488ac-cd5a-4dcf-b296-469065a5cdb8')\"\n",
              "            title=\"Convert this dataframe to an interactive table.\"\n",
              "            style=\"display:none;\">\n",
              "\n",
              "  <svg xmlns=\"http://www.w3.org/2000/svg\" height=\"24px\" viewBox=\"0 -960 960 960\">\n",
              "    <path d=\"M120-120v-720h720v720H120Zm60-500h600v-160H180v160Zm220 220h160v-160H400v160Zm0 220h160v-160H400v160ZM180-400h160v-160H180v160Zm440 0h160v-160H620v160ZM180-180h160v-160H180v160Zm440 0h160v-160H620v160Z\"/>\n",
              "  </svg>\n",
              "    </button>\n",
              "\n",
              "  <style>\n",
              "    .colab-df-container {\n",
              "      display:flex;\n",
              "      gap: 12px;\n",
              "    }\n",
              "\n",
              "    .colab-df-convert {\n",
              "      background-color: #E8F0FE;\n",
              "      border: none;\n",
              "      border-radius: 50%;\n",
              "      cursor: pointer;\n",
              "      display: none;\n",
              "      fill: #1967D2;\n",
              "      height: 32px;\n",
              "      padding: 0 0 0 0;\n",
              "      width: 32px;\n",
              "    }\n",
              "\n",
              "    .colab-df-convert:hover {\n",
              "      background-color: #E2EBFA;\n",
              "      box-shadow: 0px 1px 2px rgba(60, 64, 67, 0.3), 0px 1px 3px 1px rgba(60, 64, 67, 0.15);\n",
              "      fill: #174EA6;\n",
              "    }\n",
              "\n",
              "    .colab-df-buttons div {\n",
              "      margin-bottom: 4px;\n",
              "    }\n",
              "\n",
              "    [theme=dark] .colab-df-convert {\n",
              "      background-color: #3B4455;\n",
              "      fill: #D2E3FC;\n",
              "    }\n",
              "\n",
              "    [theme=dark] .colab-df-convert:hover {\n",
              "      background-color: #434B5C;\n",
              "      box-shadow: 0px 1px 3px 1px rgba(0, 0, 0, 0.15);\n",
              "      filter: drop-shadow(0px 1px 2px rgba(0, 0, 0, 0.3));\n",
              "      fill: #FFFFFF;\n",
              "    }\n",
              "  </style>\n",
              "\n",
              "    <script>\n",
              "      const buttonEl =\n",
              "        document.querySelector('#df-7da488ac-cd5a-4dcf-b296-469065a5cdb8 button.colab-df-convert');\n",
              "      buttonEl.style.display =\n",
              "        google.colab.kernel.accessAllowed ? 'block' : 'none';\n",
              "\n",
              "      async function convertToInteractive(key) {\n",
              "        const element = document.querySelector('#df-7da488ac-cd5a-4dcf-b296-469065a5cdb8');\n",
              "        const dataTable =\n",
              "          await google.colab.kernel.invokeFunction('convertToInteractive',\n",
              "                                                    [key], {});\n",
              "        if (!dataTable) return;\n",
              "\n",
              "        const docLinkHtml = 'Like what you see? Visit the ' +\n",
              "          '<a target=\"_blank\" href=https://colab.research.google.com/notebooks/data_table.ipynb>data table notebook</a>'\n",
              "          + ' to learn more about interactive tables.';\n",
              "        element.innerHTML = '';\n",
              "        dataTable['output_type'] = 'display_data';\n",
              "        await google.colab.output.renderOutput(dataTable, element);\n",
              "        const docLink = document.createElement('div');\n",
              "        docLink.innerHTML = docLinkHtml;\n",
              "        element.appendChild(docLink);\n",
              "      }\n",
              "    </script>\n",
              "  </div>\n",
              "\n",
              "\n",
              "<div id=\"df-664d4ad8-8778-41aa-a793-598395775b63\">\n",
              "  <button class=\"colab-df-quickchart\" onclick=\"quickchart('df-664d4ad8-8778-41aa-a793-598395775b63')\"\n",
              "            title=\"Suggest charts\"\n",
              "            style=\"display:none;\">\n",
              "\n",
              "<svg xmlns=\"http://www.w3.org/2000/svg\" height=\"24px\"viewBox=\"0 0 24 24\"\n",
              "     width=\"24px\">\n",
              "    <g>\n",
              "        <path d=\"M19 3H5c-1.1 0-2 .9-2 2v14c0 1.1.9 2 2 2h14c1.1 0 2-.9 2-2V5c0-1.1-.9-2-2-2zM9 17H7v-7h2v7zm4 0h-2V7h2v10zm4 0h-2v-4h2v4z\"/>\n",
              "    </g>\n",
              "</svg>\n",
              "  </button>\n",
              "\n",
              "<style>\n",
              "  .colab-df-quickchart {\n",
              "      --bg-color: #E8F0FE;\n",
              "      --fill-color: #1967D2;\n",
              "      --hover-bg-color: #E2EBFA;\n",
              "      --hover-fill-color: #174EA6;\n",
              "      --disabled-fill-color: #AAA;\n",
              "      --disabled-bg-color: #DDD;\n",
              "  }\n",
              "\n",
              "  [theme=dark] .colab-df-quickchart {\n",
              "      --bg-color: #3B4455;\n",
              "      --fill-color: #D2E3FC;\n",
              "      --hover-bg-color: #434B5C;\n",
              "      --hover-fill-color: #FFFFFF;\n",
              "      --disabled-bg-color: #3B4455;\n",
              "      --disabled-fill-color: #666;\n",
              "  }\n",
              "\n",
              "  .colab-df-quickchart {\n",
              "    background-color: var(--bg-color);\n",
              "    border: none;\n",
              "    border-radius: 50%;\n",
              "    cursor: pointer;\n",
              "    display: none;\n",
              "    fill: var(--fill-color);\n",
              "    height: 32px;\n",
              "    padding: 0;\n",
              "    width: 32px;\n",
              "  }\n",
              "\n",
              "  .colab-df-quickchart:hover {\n",
              "    background-color: var(--hover-bg-color);\n",
              "    box-shadow: 0 1px 2px rgba(60, 64, 67, 0.3), 0 1px 3px 1px rgba(60, 64, 67, 0.15);\n",
              "    fill: var(--button-hover-fill-color);\n",
              "  }\n",
              "\n",
              "  .colab-df-quickchart-complete:disabled,\n",
              "  .colab-df-quickchart-complete:disabled:hover {\n",
              "    background-color: var(--disabled-bg-color);\n",
              "    fill: var(--disabled-fill-color);\n",
              "    box-shadow: none;\n",
              "  }\n",
              "\n",
              "  .colab-df-spinner {\n",
              "    border: 2px solid var(--fill-color);\n",
              "    border-color: transparent;\n",
              "    border-bottom-color: var(--fill-color);\n",
              "    animation:\n",
              "      spin 1s steps(1) infinite;\n",
              "  }\n",
              "\n",
              "  @keyframes spin {\n",
              "    0% {\n",
              "      border-color: transparent;\n",
              "      border-bottom-color: var(--fill-color);\n",
              "      border-left-color: var(--fill-color);\n",
              "    }\n",
              "    20% {\n",
              "      border-color: transparent;\n",
              "      border-left-color: var(--fill-color);\n",
              "      border-top-color: var(--fill-color);\n",
              "    }\n",
              "    30% {\n",
              "      border-color: transparent;\n",
              "      border-left-color: var(--fill-color);\n",
              "      border-top-color: var(--fill-color);\n",
              "      border-right-color: var(--fill-color);\n",
              "    }\n",
              "    40% {\n",
              "      border-color: transparent;\n",
              "      border-right-color: var(--fill-color);\n",
              "      border-top-color: var(--fill-color);\n",
              "    }\n",
              "    60% {\n",
              "      border-color: transparent;\n",
              "      border-right-color: var(--fill-color);\n",
              "    }\n",
              "    80% {\n",
              "      border-color: transparent;\n",
              "      border-right-color: var(--fill-color);\n",
              "      border-bottom-color: var(--fill-color);\n",
              "    }\n",
              "    90% {\n",
              "      border-color: transparent;\n",
              "      border-bottom-color: var(--fill-color);\n",
              "    }\n",
              "  }\n",
              "</style>\n",
              "\n",
              "  <script>\n",
              "    async function quickchart(key) {\n",
              "      const quickchartButtonEl =\n",
              "        document.querySelector('#' + key + ' button');\n",
              "      quickchartButtonEl.disabled = true;  // To prevent multiple clicks.\n",
              "      quickchartButtonEl.classList.add('colab-df-spinner');\n",
              "      try {\n",
              "        const charts = await google.colab.kernel.invokeFunction(\n",
              "            'suggestCharts', [key], {});\n",
              "      } catch (error) {\n",
              "        console.error('Error during call to suggestCharts:', error);\n",
              "      }\n",
              "      quickchartButtonEl.classList.remove('colab-df-spinner');\n",
              "      quickchartButtonEl.classList.add('colab-df-quickchart-complete');\n",
              "    }\n",
              "    (() => {\n",
              "      let quickchartButtonEl =\n",
              "        document.querySelector('#df-664d4ad8-8778-41aa-a793-598395775b63 button');\n",
              "      quickchartButtonEl.style.display =\n",
              "        google.colab.kernel.accessAllowed ? 'block' : 'none';\n",
              "    })();\n",
              "  </script>\n",
              "</div>\n",
              "\n",
              "  <div id=\"id_e4a0703d-85ca-400f-9080-3c6398fa57c7\">\n",
              "    <style>\n",
              "      .colab-df-generate {\n",
              "        background-color: #E8F0FE;\n",
              "        border: none;\n",
              "        border-radius: 50%;\n",
              "        cursor: pointer;\n",
              "        display: none;\n",
              "        fill: #1967D2;\n",
              "        height: 32px;\n",
              "        padding: 0 0 0 0;\n",
              "        width: 32px;\n",
              "      }\n",
              "\n",
              "      .colab-df-generate:hover {\n",
              "        background-color: #E2EBFA;\n",
              "        box-shadow: 0px 1px 2px rgba(60, 64, 67, 0.3), 0px 1px 3px 1px rgba(60, 64, 67, 0.15);\n",
              "        fill: #174EA6;\n",
              "      }\n",
              "\n",
              "      [theme=dark] .colab-df-generate {\n",
              "        background-color: #3B4455;\n",
              "        fill: #D2E3FC;\n",
              "      }\n",
              "\n",
              "      [theme=dark] .colab-df-generate:hover {\n",
              "        background-color: #434B5C;\n",
              "        box-shadow: 0px 1px 3px 1px rgba(0, 0, 0, 0.15);\n",
              "        filter: drop-shadow(0px 1px 2px rgba(0, 0, 0, 0.3));\n",
              "        fill: #FFFFFF;\n",
              "      }\n",
              "    </style>\n",
              "    <button class=\"colab-df-generate\" onclick=\"generateWithVariable('squinky_data')\"\n",
              "            title=\"Generate code using this dataframe.\"\n",
              "            style=\"display:none;\">\n",
              "\n",
              "  <svg xmlns=\"http://www.w3.org/2000/svg\" height=\"24px\"viewBox=\"0 0 24 24\"\n",
              "       width=\"24px\">\n",
              "    <path d=\"M7,19H8.4L18.45,9,17,7.55,7,17.6ZM5,21V16.75L18.45,3.32a2,2,0,0,1,2.83,0l1.4,1.43a1.91,1.91,0,0,1,.58,1.4,1.91,1.91,0,0,1-.58,1.4L9.25,21ZM18.45,9,17,7.55Zm-12,3A5.31,5.31,0,0,0,4.9,8.1,5.31,5.31,0,0,0,1,6.5,5.31,5.31,0,0,0,4.9,4.9,5.31,5.31,0,0,0,6.5,1,5.31,5.31,0,0,0,8.1,4.9,5.31,5.31,0,0,0,12,6.5,5.46,5.46,0,0,0,6.5,12Z\"/>\n",
              "  </svg>\n",
              "    </button>\n",
              "    <script>\n",
              "      (() => {\n",
              "      const buttonEl =\n",
              "        document.querySelector('#id_e4a0703d-85ca-400f-9080-3c6398fa57c7 button.colab-df-generate');\n",
              "      buttonEl.style.display =\n",
              "        google.colab.kernel.accessAllowed ? 'block' : 'none';\n",
              "\n",
              "      buttonEl.onclick = () => {\n",
              "        google.colab.notebook.generateWithVariable('squinky_data');\n",
              "      }\n",
              "      })();\n",
              "    </script>\n",
              "  </div>\n",
              "\n",
              "    </div>\n",
              "  </div>\n"
            ],
            "application/vnd.google.colaboratory.intrinsic+json": {
              "type": "dataframe",
              "variable_name": "squinky_data",
              "summary": "{\n  \"name\": \"squinky_data\",\n  \"rows\": 7032,\n  \"fields\": [\n    {\n      \"column\": \"id\",\n      \"properties\": {\n        \"dtype\": \"number\",\n        \"std\": 2031,\n        \"min\": 0,\n        \"max\": 7035,\n        \"num_unique_values\": 7032,\n        \"samples\": [\n          2478,\n          6777,\n          6120\n        ],\n        \"semantic_type\": \"\",\n        \"description\": \"\"\n      }\n    },\n    {\n      \"column\": \"formality\",\n      \"properties\": {\n        \"dtype\": \"number\",\n        \"std\": 1.12073709983573,\n        \"min\": 1.0,\n        \"max\": 6.6,\n        \"num_unique_values\": 57,\n        \"samples\": [\n          6.0,\n          5.3,\n          3.6\n        ],\n        \"semantic_type\": \"\",\n        \"description\": \"\"\n      }\n    },\n    {\n      \"column\": \"informativeness\",\n      \"properties\": {\n        \"dtype\": \"number\",\n        \"std\": 1.0524323194780836,\n        \"min\": 1.2,\n        \"max\": 6.7,\n        \"num_unique_values\": 56,\n        \"samples\": [\n          6.1,\n          6.3,\n          2.0\n        ],\n        \"semantic_type\": \"\",\n        \"description\": \"\"\n      }\n    },\n    {\n      \"column\": \"implicature\",\n      \"properties\": {\n        \"dtype\": \"number\",\n        \"std\": 0.6671672506229068,\n        \"min\": 1.6,\n        \"max\": 6.2,\n        \"num_unique_values\": 45,\n        \"samples\": [\n          5.7,\n          5.1,\n          4.6\n        ],\n        \"semantic_type\": \"\",\n        \"description\": \"\"\n      }\n    },\n    {\n      \"column\": \"sentence\",\n      \"properties\": {\n        \"dtype\": \"string\",\n        \"num_unique_values\": 7032,\n        \"samples\": [\n          \"If you double click it to open it should give you an error message that says, \\\"Can not mount /dev/hdax\\\"  This is where you OS X partition is.\",\n          \"whereIstand.com crowdsources its opinion database -\",\n          \"The younger boy takes the sturdy little boat by himself and rows alongside a friend, like a kid trying out a new bike in the neighborhood without supervision.\"\n        ],\n        \"semantic_type\": \"\",\n        \"description\": \"\"\n      }\n    }\n  ]\n}"
            }
          },
          "metadata": {},
          "execution_count": 4
        }
      ]
    },
    {
      "cell_type": "code",
      "source": [
        "squinky_data = squinky_data[['formality', 'sentence']]\n",
        "squinky_data"
      ],
      "metadata": {
        "colab": {
          "base_uri": "https://localhost:8080/",
          "height": 419
        },
        "id": "qKdjA6qEBvhc",
        "outputId": "df5ecec4-54c6-4199-efeb-5627a4a19146"
      },
      "execution_count": null,
      "outputs": [
        {
          "output_type": "execute_result",
          "data": {
            "text/plain": [
              "      formality                                           sentence\n",
              "0           6.0  10In High Bay 4 of the Vehicle Assembly Buildi...\n",
              "1           5.6  12The oxygen vent arm and hood removed from th...\n",
              "2           5.5  13In the Rotation, Processing and Surge Facili...\n",
              "3           5.0  14In the Vehicle Assembly Building's High Bay ...\n",
              "4           5.1  15In the Vehicle Assembly Building's High Bay ...\n",
              "...         ...                                                ...\n",
              "7027        2.6                              Let's hope it's true.\n",
              "7028        1.7                   Cheer up, Sony (NYSE: SNE) fans.\n",
              "7029        4.9  Wired is one of the few publications that acts...\n",
              "7030        5.5  As NewsBusters reported Friday, conservative t...\n",
              "7031        2.6              Pumpkins from Simon Willcox on Vimeo.\n",
              "\n",
              "[7032 rows x 2 columns]"
            ],
            "text/html": [
              "\n",
              "  <div id=\"df-b0688997-a3c8-4ce9-aaf2-fb5907fe904d\" class=\"colab-df-container\">\n",
              "    <div>\n",
              "<style scoped>\n",
              "    .dataframe tbody tr th:only-of-type {\n",
              "        vertical-align: middle;\n",
              "    }\n",
              "\n",
              "    .dataframe tbody tr th {\n",
              "        vertical-align: top;\n",
              "    }\n",
              "\n",
              "    .dataframe thead th {\n",
              "        text-align: right;\n",
              "    }\n",
              "</style>\n",
              "<table border=\"1\" class=\"dataframe\">\n",
              "  <thead>\n",
              "    <tr style=\"text-align: right;\">\n",
              "      <th></th>\n",
              "      <th>formality</th>\n",
              "      <th>sentence</th>\n",
              "    </tr>\n",
              "  </thead>\n",
              "  <tbody>\n",
              "    <tr>\n",
              "      <th>0</th>\n",
              "      <td>6.0</td>\n",
              "      <td>10In High Bay 4 of the Vehicle Assembly Buildi...</td>\n",
              "    </tr>\n",
              "    <tr>\n",
              "      <th>1</th>\n",
              "      <td>5.6</td>\n",
              "      <td>12The oxygen vent arm and hood removed from th...</td>\n",
              "    </tr>\n",
              "    <tr>\n",
              "      <th>2</th>\n",
              "      <td>5.5</td>\n",
              "      <td>13In the Rotation, Processing and Surge Facili...</td>\n",
              "    </tr>\n",
              "    <tr>\n",
              "      <th>3</th>\n",
              "      <td>5.0</td>\n",
              "      <td>14In the Vehicle Assembly Building's High Bay ...</td>\n",
              "    </tr>\n",
              "    <tr>\n",
              "      <th>4</th>\n",
              "      <td>5.1</td>\n",
              "      <td>15In the Vehicle Assembly Building's High Bay ...</td>\n",
              "    </tr>\n",
              "    <tr>\n",
              "      <th>...</th>\n",
              "      <td>...</td>\n",
              "      <td>...</td>\n",
              "    </tr>\n",
              "    <tr>\n",
              "      <th>7027</th>\n",
              "      <td>2.6</td>\n",
              "      <td>Let's hope it's true.</td>\n",
              "    </tr>\n",
              "    <tr>\n",
              "      <th>7028</th>\n",
              "      <td>1.7</td>\n",
              "      <td>Cheer up, Sony (NYSE: SNE) fans.</td>\n",
              "    </tr>\n",
              "    <tr>\n",
              "      <th>7029</th>\n",
              "      <td>4.9</td>\n",
              "      <td>Wired is one of the few publications that acts...</td>\n",
              "    </tr>\n",
              "    <tr>\n",
              "      <th>7030</th>\n",
              "      <td>5.5</td>\n",
              "      <td>As NewsBusters reported Friday, conservative t...</td>\n",
              "    </tr>\n",
              "    <tr>\n",
              "      <th>7031</th>\n",
              "      <td>2.6</td>\n",
              "      <td>Pumpkins from Simon Willcox on Vimeo.</td>\n",
              "    </tr>\n",
              "  </tbody>\n",
              "</table>\n",
              "<p>7032 rows × 2 columns</p>\n",
              "</div>\n",
              "    <div class=\"colab-df-buttons\">\n",
              "\n",
              "  <div class=\"colab-df-container\">\n",
              "    <button class=\"colab-df-convert\" onclick=\"convertToInteractive('df-b0688997-a3c8-4ce9-aaf2-fb5907fe904d')\"\n",
              "            title=\"Convert this dataframe to an interactive table.\"\n",
              "            style=\"display:none;\">\n",
              "\n",
              "  <svg xmlns=\"http://www.w3.org/2000/svg\" height=\"24px\" viewBox=\"0 -960 960 960\">\n",
              "    <path d=\"M120-120v-720h720v720H120Zm60-500h600v-160H180v160Zm220 220h160v-160H400v160Zm0 220h160v-160H400v160ZM180-400h160v-160H180v160Zm440 0h160v-160H620v160ZM180-180h160v-160H180v160Zm440 0h160v-160H620v160Z\"/>\n",
              "  </svg>\n",
              "    </button>\n",
              "\n",
              "  <style>\n",
              "    .colab-df-container {\n",
              "      display:flex;\n",
              "      gap: 12px;\n",
              "    }\n",
              "\n",
              "    .colab-df-convert {\n",
              "      background-color: #E8F0FE;\n",
              "      border: none;\n",
              "      border-radius: 50%;\n",
              "      cursor: pointer;\n",
              "      display: none;\n",
              "      fill: #1967D2;\n",
              "      height: 32px;\n",
              "      padding: 0 0 0 0;\n",
              "      width: 32px;\n",
              "    }\n",
              "\n",
              "    .colab-df-convert:hover {\n",
              "      background-color: #E2EBFA;\n",
              "      box-shadow: 0px 1px 2px rgba(60, 64, 67, 0.3), 0px 1px 3px 1px rgba(60, 64, 67, 0.15);\n",
              "      fill: #174EA6;\n",
              "    }\n",
              "\n",
              "    .colab-df-buttons div {\n",
              "      margin-bottom: 4px;\n",
              "    }\n",
              "\n",
              "    [theme=dark] .colab-df-convert {\n",
              "      background-color: #3B4455;\n",
              "      fill: #D2E3FC;\n",
              "    }\n",
              "\n",
              "    [theme=dark] .colab-df-convert:hover {\n",
              "      background-color: #434B5C;\n",
              "      box-shadow: 0px 1px 3px 1px rgba(0, 0, 0, 0.15);\n",
              "      filter: drop-shadow(0px 1px 2px rgba(0, 0, 0, 0.3));\n",
              "      fill: #FFFFFF;\n",
              "    }\n",
              "  </style>\n",
              "\n",
              "    <script>\n",
              "      const buttonEl =\n",
              "        document.querySelector('#df-b0688997-a3c8-4ce9-aaf2-fb5907fe904d button.colab-df-convert');\n",
              "      buttonEl.style.display =\n",
              "        google.colab.kernel.accessAllowed ? 'block' : 'none';\n",
              "\n",
              "      async function convertToInteractive(key) {\n",
              "        const element = document.querySelector('#df-b0688997-a3c8-4ce9-aaf2-fb5907fe904d');\n",
              "        const dataTable =\n",
              "          await google.colab.kernel.invokeFunction('convertToInteractive',\n",
              "                                                    [key], {});\n",
              "        if (!dataTable) return;\n",
              "\n",
              "        const docLinkHtml = 'Like what you see? Visit the ' +\n",
              "          '<a target=\"_blank\" href=https://colab.research.google.com/notebooks/data_table.ipynb>data table notebook</a>'\n",
              "          + ' to learn more about interactive tables.';\n",
              "        element.innerHTML = '';\n",
              "        dataTable['output_type'] = 'display_data';\n",
              "        await google.colab.output.renderOutput(dataTable, element);\n",
              "        const docLink = document.createElement('div');\n",
              "        docLink.innerHTML = docLinkHtml;\n",
              "        element.appendChild(docLink);\n",
              "      }\n",
              "    </script>\n",
              "  </div>\n",
              "\n",
              "\n",
              "<div id=\"df-e0fafa25-5842-4f60-9dbe-2ab7acab1d79\">\n",
              "  <button class=\"colab-df-quickchart\" onclick=\"quickchart('df-e0fafa25-5842-4f60-9dbe-2ab7acab1d79')\"\n",
              "            title=\"Suggest charts\"\n",
              "            style=\"display:none;\">\n",
              "\n",
              "<svg xmlns=\"http://www.w3.org/2000/svg\" height=\"24px\"viewBox=\"0 0 24 24\"\n",
              "     width=\"24px\">\n",
              "    <g>\n",
              "        <path d=\"M19 3H5c-1.1 0-2 .9-2 2v14c0 1.1.9 2 2 2h14c1.1 0 2-.9 2-2V5c0-1.1-.9-2-2-2zM9 17H7v-7h2v7zm4 0h-2V7h2v10zm4 0h-2v-4h2v4z\"/>\n",
              "    </g>\n",
              "</svg>\n",
              "  </button>\n",
              "\n",
              "<style>\n",
              "  .colab-df-quickchart {\n",
              "      --bg-color: #E8F0FE;\n",
              "      --fill-color: #1967D2;\n",
              "      --hover-bg-color: #E2EBFA;\n",
              "      --hover-fill-color: #174EA6;\n",
              "      --disabled-fill-color: #AAA;\n",
              "      --disabled-bg-color: #DDD;\n",
              "  }\n",
              "\n",
              "  [theme=dark] .colab-df-quickchart {\n",
              "      --bg-color: #3B4455;\n",
              "      --fill-color: #D2E3FC;\n",
              "      --hover-bg-color: #434B5C;\n",
              "      --hover-fill-color: #FFFFFF;\n",
              "      --disabled-bg-color: #3B4455;\n",
              "      --disabled-fill-color: #666;\n",
              "  }\n",
              "\n",
              "  .colab-df-quickchart {\n",
              "    background-color: var(--bg-color);\n",
              "    border: none;\n",
              "    border-radius: 50%;\n",
              "    cursor: pointer;\n",
              "    display: none;\n",
              "    fill: var(--fill-color);\n",
              "    height: 32px;\n",
              "    padding: 0;\n",
              "    width: 32px;\n",
              "  }\n",
              "\n",
              "  .colab-df-quickchart:hover {\n",
              "    background-color: var(--hover-bg-color);\n",
              "    box-shadow: 0 1px 2px rgba(60, 64, 67, 0.3), 0 1px 3px 1px rgba(60, 64, 67, 0.15);\n",
              "    fill: var(--button-hover-fill-color);\n",
              "  }\n",
              "\n",
              "  .colab-df-quickchart-complete:disabled,\n",
              "  .colab-df-quickchart-complete:disabled:hover {\n",
              "    background-color: var(--disabled-bg-color);\n",
              "    fill: var(--disabled-fill-color);\n",
              "    box-shadow: none;\n",
              "  }\n",
              "\n",
              "  .colab-df-spinner {\n",
              "    border: 2px solid var(--fill-color);\n",
              "    border-color: transparent;\n",
              "    border-bottom-color: var(--fill-color);\n",
              "    animation:\n",
              "      spin 1s steps(1) infinite;\n",
              "  }\n",
              "\n",
              "  @keyframes spin {\n",
              "    0% {\n",
              "      border-color: transparent;\n",
              "      border-bottom-color: var(--fill-color);\n",
              "      border-left-color: var(--fill-color);\n",
              "    }\n",
              "    20% {\n",
              "      border-color: transparent;\n",
              "      border-left-color: var(--fill-color);\n",
              "      border-top-color: var(--fill-color);\n",
              "    }\n",
              "    30% {\n",
              "      border-color: transparent;\n",
              "      border-left-color: var(--fill-color);\n",
              "      border-top-color: var(--fill-color);\n",
              "      border-right-color: var(--fill-color);\n",
              "    }\n",
              "    40% {\n",
              "      border-color: transparent;\n",
              "      border-right-color: var(--fill-color);\n",
              "      border-top-color: var(--fill-color);\n",
              "    }\n",
              "    60% {\n",
              "      border-color: transparent;\n",
              "      border-right-color: var(--fill-color);\n",
              "    }\n",
              "    80% {\n",
              "      border-color: transparent;\n",
              "      border-right-color: var(--fill-color);\n",
              "      border-bottom-color: var(--fill-color);\n",
              "    }\n",
              "    90% {\n",
              "      border-color: transparent;\n",
              "      border-bottom-color: var(--fill-color);\n",
              "    }\n",
              "  }\n",
              "</style>\n",
              "\n",
              "  <script>\n",
              "    async function quickchart(key) {\n",
              "      const quickchartButtonEl =\n",
              "        document.querySelector('#' + key + ' button');\n",
              "      quickchartButtonEl.disabled = true;  // To prevent multiple clicks.\n",
              "      quickchartButtonEl.classList.add('colab-df-spinner');\n",
              "      try {\n",
              "        const charts = await google.colab.kernel.invokeFunction(\n",
              "            'suggestCharts', [key], {});\n",
              "      } catch (error) {\n",
              "        console.error('Error during call to suggestCharts:', error);\n",
              "      }\n",
              "      quickchartButtonEl.classList.remove('colab-df-spinner');\n",
              "      quickchartButtonEl.classList.add('colab-df-quickchart-complete');\n",
              "    }\n",
              "    (() => {\n",
              "      let quickchartButtonEl =\n",
              "        document.querySelector('#df-e0fafa25-5842-4f60-9dbe-2ab7acab1d79 button');\n",
              "      quickchartButtonEl.style.display =\n",
              "        google.colab.kernel.accessAllowed ? 'block' : 'none';\n",
              "    })();\n",
              "  </script>\n",
              "</div>\n",
              "\n",
              "  <div id=\"id_28fd981f-2128-4dce-a643-f5badbcdde1f\">\n",
              "    <style>\n",
              "      .colab-df-generate {\n",
              "        background-color: #E8F0FE;\n",
              "        border: none;\n",
              "        border-radius: 50%;\n",
              "        cursor: pointer;\n",
              "        display: none;\n",
              "        fill: #1967D2;\n",
              "        height: 32px;\n",
              "        padding: 0 0 0 0;\n",
              "        width: 32px;\n",
              "      }\n",
              "\n",
              "      .colab-df-generate:hover {\n",
              "        background-color: #E2EBFA;\n",
              "        box-shadow: 0px 1px 2px rgba(60, 64, 67, 0.3), 0px 1px 3px 1px rgba(60, 64, 67, 0.15);\n",
              "        fill: #174EA6;\n",
              "      }\n",
              "\n",
              "      [theme=dark] .colab-df-generate {\n",
              "        background-color: #3B4455;\n",
              "        fill: #D2E3FC;\n",
              "      }\n",
              "\n",
              "      [theme=dark] .colab-df-generate:hover {\n",
              "        background-color: #434B5C;\n",
              "        box-shadow: 0px 1px 3px 1px rgba(0, 0, 0, 0.15);\n",
              "        filter: drop-shadow(0px 1px 2px rgba(0, 0, 0, 0.3));\n",
              "        fill: #FFFFFF;\n",
              "      }\n",
              "    </style>\n",
              "    <button class=\"colab-df-generate\" onclick=\"generateWithVariable('squinky_data')\"\n",
              "            title=\"Generate code using this dataframe.\"\n",
              "            style=\"display:none;\">\n",
              "\n",
              "  <svg xmlns=\"http://www.w3.org/2000/svg\" height=\"24px\"viewBox=\"0 0 24 24\"\n",
              "       width=\"24px\">\n",
              "    <path d=\"M7,19H8.4L18.45,9,17,7.55,7,17.6ZM5,21V16.75L18.45,3.32a2,2,0,0,1,2.83,0l1.4,1.43a1.91,1.91,0,0,1,.58,1.4,1.91,1.91,0,0,1-.58,1.4L9.25,21ZM18.45,9,17,7.55Zm-12,3A5.31,5.31,0,0,0,4.9,8.1,5.31,5.31,0,0,0,1,6.5,5.31,5.31,0,0,0,4.9,4.9,5.31,5.31,0,0,0,6.5,1,5.31,5.31,0,0,0,8.1,4.9,5.31,5.31,0,0,0,12,6.5,5.46,5.46,0,0,0,6.5,12Z\"/>\n",
              "  </svg>\n",
              "    </button>\n",
              "    <script>\n",
              "      (() => {\n",
              "      const buttonEl =\n",
              "        document.querySelector('#id_28fd981f-2128-4dce-a643-f5badbcdde1f button.colab-df-generate');\n",
              "      buttonEl.style.display =\n",
              "        google.colab.kernel.accessAllowed ? 'block' : 'none';\n",
              "\n",
              "      buttonEl.onclick = () => {\n",
              "        google.colab.notebook.generateWithVariable('squinky_data');\n",
              "      }\n",
              "      })();\n",
              "    </script>\n",
              "  </div>\n",
              "\n",
              "    </div>\n",
              "  </div>\n"
            ],
            "application/vnd.google.colaboratory.intrinsic+json": {
              "type": "dataframe",
              "variable_name": "squinky_data",
              "summary": "{\n  \"name\": \"squinky_data\",\n  \"rows\": 7032,\n  \"fields\": [\n    {\n      \"column\": \"formality\",\n      \"properties\": {\n        \"dtype\": \"number\",\n        \"std\": 1.12073709983573,\n        \"min\": 1.0,\n        \"max\": 6.6,\n        \"num_unique_values\": 57,\n        \"samples\": [\n          6.0,\n          5.3,\n          3.6\n        ],\n        \"semantic_type\": \"\",\n        \"description\": \"\"\n      }\n    },\n    {\n      \"column\": \"sentence\",\n      \"properties\": {\n        \"dtype\": \"string\",\n        \"num_unique_values\": 7032,\n        \"samples\": [\n          \"If you double click it to open it should give you an error message that says, \\\"Can not mount /dev/hdax\\\"  This is where you OS X partition is.\",\n          \"whereIstand.com crowdsources its opinion database -\",\n          \"The younger boy takes the sturdy little boat by himself and rows alongside a friend, like a kid trying out a new bike in the neighborhood without supervision.\"\n        ],\n        \"semantic_type\": \"\",\n        \"description\": \"\"\n      }\n    }\n  ]\n}"
            }
          },
          "metadata": {},
          "execution_count": 5
        }
      ]
    },
    {
      "cell_type": "markdown",
      "source": [
        "### SQUINKY! Threshold"
      ],
      "metadata": {
        "id": "2C0eL3_kGzlx"
      }
    },
    {
      "cell_type": "markdown",
      "source": [
        "To find out the threshold for the dataset that would allow us to separate it, let's take a look at the data."
      ],
      "metadata": {
        "id": "vJ7bI5ImIvQA"
      }
    },
    {
      "cell_type": "code",
      "source": [
        "import matplotlib.pyplot as plt\n",
        "\n",
        "plt.hist(squinky_data['formality'], bins = 30)"
      ],
      "metadata": {
        "colab": {
          "base_uri": "https://localhost:8080/",
          "height": 617
        },
        "id": "5MO-Rk0WIum_",
        "outputId": "ea768746-f566-434d-c378-f776c013de1d"
      },
      "execution_count": null,
      "outputs": [
        {
          "output_type": "execute_result",
          "data": {
            "text/plain": [
              "(array([  5.,  16.,  41.,  91., 147., 157., 245., 130., 298., 337., 354.,\n",
              "        347., 351., 340., 196., 386., 395., 387., 413., 423., 465., 437.,\n",
              "        217., 341., 250., 149.,  73.,  32.,   6.,   3.]),\n",
              " array([1.        , 1.18666667, 1.37333333, 1.56      , 1.74666667,\n",
              "        1.93333333, 2.12      , 2.30666667, 2.49333333, 2.68      ,\n",
              "        2.86666667, 3.05333333, 3.24      , 3.42666667, 3.61333333,\n",
              "        3.8       , 3.98666667, 4.17333333, 4.36      , 4.54666667,\n",
              "        4.73333333, 4.92      , 5.10666667, 5.29333333, 5.48      ,\n",
              "        5.66666667, 5.85333333, 6.04      , 6.22666667, 6.41333333,\n",
              "        6.6       ]),\n",
              " <BarContainer object of 30 artists>)"
            ]
          },
          "metadata": {},
          "execution_count": 6
        },
        {
          "output_type": "display_data",
          "data": {
            "text/plain": [
              "<Figure size 640x480 with 1 Axes>"
            ],
            "image/png": "[encoded data removed]"
          },
          "metadata": {}
        }
      ]
    },
    {
      "cell_type": "code",
      "source": [
        "squinky_data['formality'].median()"
      ],
      "metadata": {
        "colab": {
          "base_uri": "https://localhost:8080/"
        },
        "id": "fBXS9xc2JFwK",
        "outputId": "1ca97d34-1bde-451b-c75c-7506ffbaabe4"
      },
      "execution_count": null,
      "outputs": [
        {
          "output_type": "execute_result",
          "data": {
            "text/plain": [
              "4.0"
            ]
          },
          "metadata": {},
          "execution_count": 7
        }
      ]
    },
    {
      "cell_type": "code",
      "source": [
        "squinky_data['formality'].mean()"
      ],
      "metadata": {
        "colab": {
          "base_uri": "https://localhost:8080/"
        },
        "id": "zT1ZS2P0KF8N",
        "outputId": "86a2532b-fdfb-4650-d1f8-0213f925cfb9"
      },
      "execution_count": null,
      "outputs": [
        {
          "output_type": "execute_result",
          "data": {
            "text/plain": [
              "3.9116894197952217"
            ]
          },
          "metadata": {},
          "execution_count": 8
        }
      ]
    },
    {
      "cell_type": "markdown",
      "source": [
        "Meaning roughly a half of the dataset is above the threshold of 4. Since we are to evaluate the models, I'll manually set the threshold after comparing the data samples where the formality is equal to 4.0 and is a bit higher or lower."
      ],
      "metadata": {
        "id": "QjlnQWgHK8JF"
      }
    },
    {
      "cell_type": "code",
      "source": [
        "squinky_data[squinky_data['formality'] == 4.0]['sentence'][:20].to_list()"
      ],
      "metadata": {
        "colab": {
          "base_uri": "https://localhost:8080/"
        },
        "id": "tK3esEONKOoS",
        "outputId": "eb36741a-726f-4da0-8f9d-0e2afdd9eb4a"
      },
      "execution_count": null,
      "outputs": [
        {
          "output_type": "execute_result",
          "data": {
            "text/plain": [
              "['2Ares I First Stage Motor Unveiled on July 20, 2009.',\n",
              " '3) check on the \"Network Printer\" radio button and choose Unix Printer (LPD) and enter the IP address of your print server (for your case, it might be 192.168.0.1) for the \"host\" and lp for the Queue , then click \"forward\"',\n",
              " '4. In the \"host:\" box, type the IP address of the print server.',\n",
              " \"After finishing 2-11 last season in Wulff's first year, the Cougars have four games left against Arizona, UCLA, Oregon State and Washington.\",\n",
              " 'A lot of damage was caused by this crisis.',\n",
              " 'A lot of politicians and political operatives in DC are very impressed by polling that shows people concerned about the budget deficit.',\n",
              " 'And at the risk of maybe sounding undiplomatic, Pakistan has to have more internal investment in your public services and in your business opportunities.',\n",
              " 'And, of course, he uses social media to connect as much as possible:',\n",
              " 'And printing a PDF-file straight to the printer with \"lp file.pdf\" puts the printer all of a sudden in double-sided mode -- even though I have it configured as single-sided.',\n",
              " 'And to answer your other question, I am using Tmobile as my carrier.',\n",
              " 'An energized Michael Jackson Web site component would help sell all the in-demand merch.',\n",
              " 'Another of Mr. Obama\\'s close advisers, Valerie Jarrett, sits down with George Stephanopoulos on ABC\\'s \"This Week.\"',\n",
              " 'A prepackaged bankruptcy \"is probably going to go through,\" Icahn said yesterday.',\n",
              " 'A reader also helpfully tells us that Kenneth D. Lewis of Bank of America apparently visited twice.',\n",
              " 'Are you looking forward to the movie?',\n",
              " 'As a dog-friendly company, we share the country-wide impulse to dress up our dogs for the holiday.',\n",
              " '\"As a scorer, when you make one or two in a row, you feel like you\\'re on fire,\" Pierce said.',\n",
              " 'As far as hotels, there are several chain choices in the Tarrytown or White Plains area (suburbs).',\n",
              " 'As for the rest of the student body, she said: \"We are all shocked at how horrible this was.',\n",
              " \"Asked whether he was thinking about resigning, he said: 'I'm sure we're all thinking that.'\"]"
            ]
          },
          "metadata": {},
          "execution_count": 9
        }
      ]
    },
    {
      "cell_type": "code",
      "source": [
        "squinky_data[squinky_data['formality'] == 4.3].head()['sentence'].to_list()"
      ],
      "metadata": {
        "colab": {
          "base_uri": "https://localhost:8080/"
        },
        "id": "imHoQF96MCWc",
        "outputId": "a061d186-4640-4fb5-e791-e6dc084fc324"
      },
      "execution_count": null,
      "outputs": [
        {
          "output_type": "execute_result",
          "data": {
            "text/plain": [
              "['Above all, the web is shifting, from static pages to social media, from search to discovery, and the long-term leadership of that new web is still up for grabs.',\n",
              " 'Activists dump tonnes of coal in Vattenfall protest (28 Oct 09)',\n",
              " 'A few hours from now, tens of thousands of runners will hit New York streets.',\n",
              " 'All it needed was a spark - the elements were already there.',\n",
              " 'Also up for grabs is a House seat from the 9th District, which includes Pullman and Cheney.']"
            ]
          },
          "metadata": {},
          "execution_count": 10
        }
      ]
    },
    {
      "cell_type": "code",
      "source": [
        "squinky_data[squinky_data['formality'] == 3.7].head()['sentence'].to_list()"
      ],
      "metadata": {
        "colab": {
          "base_uri": "https://localhost:8080/"
        },
        "id": "9e89olzEMG4y",
        "outputId": "798b72c9-daf9-4687-b4e2-5fbbbb689d32"
      },
      "execution_count": null,
      "outputs": [
        {
          "output_type": "execute_result",
          "data": {
            "text/plain": [
              "['1. Go to System/Administration/Printing 2.',\n",
              " '4. Click Forward.',\n",
              " '4)from here on, you should be able to carry on, choose the correct printer driver and do a test page after installing.',\n",
              " \"After last week's fiasco, when an eastern span patch job fell apart after a mere seven weeks - we certainly hope so.\",\n",
              " 'Also to get to the restaurants, shops and even the lobby of the hotel, it is a smoking property, so there will be people smoking in public.']"
            ]
          },
          "metadata": {},
          "execution_count": 11
        }
      ]
    },
    {
      "cell_type": "markdown",
      "source": [
        "As expected, sentences with formality of 4.0 are on the border. I'll set the threshold to 4.0. All the sentences with a formality score above it will be considered formal (class = 0), those that have lower or equla score — informal (class = 1)."
      ],
      "metadata": {
        "id": "Ifimq0hsMWI1"
      }
    },
    {
      "cell_type": "code",
      "source": [
        "squinky_data['class'] =[0 if x > 4.0 else 1 for x in squinky_data['formality']]"
      ],
      "metadata": {
        "colab": {
          "base_uri": "https://localhost:8080/"
        },
        "id": "_XpWm8ooMlfY",
        "outputId": "be08038e-8222-4f64-e73d-f6c18c1115d6"
      },
      "execution_count": null,
      "outputs": [
        {
          "output_type": "stream",
          "name": "stderr",
          "text": [
            "<ipython-input-12-5b90e85a17ca>:1: SettingWithCopyWarning: \n",
            "A value is trying to be set on a copy of a slice from a DataFrame.\n",
            "Try using .loc[row_indexer,col_indexer] = value instead\n",
            "\n",
            "See the caveats in the documentation: https://pandas.pydata.org/pandas-docs/stable/user_guide/indexing.html#returning-a-view-versus-a-copy\n",
            "  squinky_data['class'] =[0 if x > 4.0 else 1 for x in squinky_data['formality']]\n"
          ]
        }
      ]
    },
    {
      "cell_type": "code",
      "source": [
        "squinky_data = squinky_data.drop('formality', axis=1)"
      ],
      "metadata": {
        "id": "htwLbYmmNIjP"
      },
      "execution_count": null,
      "outputs": []
    },
    {
      "cell_type": "code",
      "source": [
        "squinky_data"
      ],
      "metadata": {
        "colab": {
          "base_uri": "https://localhost:8080/",
          "height": 419
        },
        "id": "qDaficvFNdpl",
        "outputId": "ec0f8e75-a386-4f03-d00e-fc86925c043c"
      },
      "execution_count": null,
      "outputs": [
        {
          "output_type": "execute_result",
          "data": {
            "text/plain": [
              "                                               sentence  class\n",
              "0     10In High Bay 4 of the Vehicle Assembly Buildi...      0\n",
              "1     12The oxygen vent arm and hood removed from th...      0\n",
              "2     13In the Rotation, Processing and Surge Facili...      0\n",
              "3     14In the Vehicle Assembly Building's High Bay ...      0\n",
              "4     15In the Vehicle Assembly Building's High Bay ...      0\n",
              "...                                                 ...    ...\n",
              "7027                              Let's hope it's true.      1\n",
              "7028                   Cheer up, Sony (NYSE: SNE) fans.      1\n",
              "7029  Wired is one of the few publications that acts...      0\n",
              "7030  As NewsBusters reported Friday, conservative t...      0\n",
              "7031              Pumpkins from Simon Willcox on Vimeo.      1\n",
              "\n",
              "[7032 rows x 2 columns]"
            ],
            "text/html": [
              "\n",
              "  <div id=\"df-230d04d4-f56d-4be8-9f84-25a096351eba\" class=\"colab-df-container\">\n",
              "    <div>\n",
              "<style scoped>\n",
              "    .dataframe tbody tr th:only-of-type {\n",
              "        vertical-align: middle;\n",
              "    }\n",
              "\n",
              "    .dataframe tbody tr th {\n",
              "        vertical-align: top;\n",
              "    }\n",
              "\n",
              "    .dataframe thead th {\n",
              "        text-align: right;\n",
              "    }\n",
              "</style>\n",
              "<table border=\"1\" class=\"dataframe\">\n",
              "  <thead>\n",
              "    <tr style=\"text-align: right;\">\n",
              "      <th></th>\n",
              "      <th>sentence</th>\n",
              "      <th>class</th>\n",
              "    </tr>\n",
              "  </thead>\n",
              "  <tbody>\n",
              "    <tr>\n",
              "      <th>0</th>\n",
              "      <td>10In High Bay 4 of the Vehicle Assembly Buildi...</td>\n",
              "      <td>0</td>\n",
              "    </tr>\n",
              "    <tr>\n",
              "      <th>1</th>\n",
              "      <td>12The oxygen vent arm and hood removed from th...</td>\n",
              "      <td>0</td>\n",
              "    </tr>\n",
              "    <tr>\n",
              "      <th>2</th>\n",
              "      <td>13In the Rotation, Processing and Surge Facili...</td>\n",
              "      <td>0</td>\n",
              "    </tr>\n",
              "    <tr>\n",
              "      <th>3</th>\n",
              "      <td>14In the Vehicle Assembly Building's High Bay ...</td>\n",
              "      <td>0</td>\n",
              "    </tr>\n",
              "    <tr>\n",
              "      <th>4</th>\n",
              "      <td>15In the Vehicle Assembly Building's High Bay ...</td>\n",
              "      <td>0</td>\n",
              "    </tr>\n",
              "    <tr>\n",
              "      <th>...</th>\n",
              "      <td>...</td>\n",
              "      <td>...</td>\n",
              "    </tr>\n",
              "    <tr>\n",
              "      <th>7027</th>\n",
              "      <td>Let's hope it's true.</td>\n",
              "      <td>1</td>\n",
              "    </tr>\n",
              "    <tr>\n",
              "      <th>7028</th>\n",
              "      <td>Cheer up, Sony (NYSE: SNE) fans.</td>\n",
              "      <td>1</td>\n",
              "    </tr>\n",
              "    <tr>\n",
              "      <th>7029</th>\n",
              "      <td>Wired is one of the few publications that acts...</td>\n",
              "      <td>0</td>\n",
              "    </tr>\n",
              "    <tr>\n",
              "      <th>7030</th>\n",
              "      <td>As NewsBusters reported Friday, conservative t...</td>\n",
              "      <td>0</td>\n",
              "    </tr>\n",
              "    <tr>\n",
              "      <th>7031</th>\n",
              "      <td>Pumpkins from Simon Willcox on Vimeo.</td>\n",
              "      <td>1</td>\n",
              "    </tr>\n",
              "  </tbody>\n",
              "</table>\n",
              "<p>7032 rows × 2 columns</p>\n",
              "</div>\n",
              "    <div class=\"colab-df-buttons\">\n",
              "\n",
              "  <div class=\"colab-df-container\">\n",
              "    <button class=\"colab-df-convert\" onclick=\"convertToInteractive('df-230d04d4-f56d-4be8-9f84-25a096351eba')\"\n",
              "            title=\"Convert this dataframe to an interactive table.\"\n",
              "            style=\"display:none;\">\n",
              "\n",
              "  <svg xmlns=\"http://www.w3.org/2000/svg\" height=\"24px\" viewBox=\"0 -960 960 960\">\n",
              "    <path d=\"M120-120v-720h720v720H120Zm60-500h600v-160H180v160Zm220 220h160v-160H400v160Zm0 220h160v-160H400v160ZM180-400h160v-160H180v160Zm440 0h160v-160H620v160ZM180-180h160v-160H180v160Zm440 0h160v-160H620v160Z\"/>\n",
              "  </svg>\n",
              "    </button>\n",
              "\n",
              "  <style>\n",
              "    .colab-df-container {\n",
              "      display:flex;\n",
              "      gap: 12px;\n",
              "    }\n",
              "\n",
              "    .colab-df-convert {\n",
              "      background-color: #E8F0FE;\n",
              "      border: none;\n",
              "      border-radius: 50%;\n",
              "      cursor: pointer;\n",
              "      display: none;\n",
              "      fill: #1967D2;\n",
              "      height: 32px;\n",
              "      padding: 0 0 0 0;\n",
              "      width: 32px;\n",
              "    }\n",
              "\n",
              "    .colab-df-convert:hover {\n",
              "      background-color: #E2EBFA;\n",
              "      box-shadow: 0px 1px 2px rgba(60, 64, 67, 0.3), 0px 1px 3px 1px rgba(60, 64, 67, 0.15);\n",
              "      fill: #174EA6;\n",
              "    }\n",
              "\n",
              "    .colab-df-buttons div {\n",
              "      margin-bottom: 4px;\n",
              "    }\n",
              "\n",
              "    [theme=dark] .colab-df-convert {\n",
              "      background-color: #3B4455;\n",
              "      fill: #D2E3FC;\n",
              "    }\n",
              "\n",
              "    [theme=dark] .colab-df-convert:hover {\n",
              "      background-color: #434B5C;\n",
              "      box-shadow: 0px 1px 3px 1px rgba(0, 0, 0, 0.15);\n",
              "      filter: drop-shadow(0px 1px 2px rgba(0, 0, 0, 0.3));\n",
              "      fill: #FFFFFF;\n",
              "    }\n",
              "  </style>\n",
              "\n",
              "    <script>\n",
              "      const buttonEl =\n",
              "        document.querySelector('#df-230d04d4-f56d-4be8-9f84-25a096351eba button.colab-df-convert');\n",
              "      buttonEl.style.display =\n",
              "        google.colab.kernel.accessAllowed ? 'block' : 'none';\n",
              "\n",
              "      async function convertToInteractive(key) {\n",
              "        const element = document.querySelector('#df-230d04d4-f56d-4be8-9f84-25a096351eba');\n",
              "        const dataTable =\n",
              "          await google.colab.kernel.invokeFunction('convertToInteractive',\n",
              "                                                    [key], {});\n",
              "        if (!dataTable) return;\n",
              "\n",
              "        const docLinkHtml = 'Like what you see? Visit the ' +\n",
              "          '<a target=\"_blank\" href=https://colab.research.google.com/notebooks/data_table.ipynb>data table notebook</a>'\n",
              "          + ' to learn more about interactive tables.';\n",
              "        element.innerHTML = '';\n",
              "        dataTable['output_type'] = 'display_data';\n",
              "        await google.colab.output.renderOutput(dataTable, element);\n",
              "        const docLink = document.createElement('div');\n",
              "        docLink.innerHTML = docLinkHtml;\n",
              "        element.appendChild(docLink);\n",
              "      }\n",
              "    </script>\n",
              "  </div>\n",
              "\n",
              "\n",
              "<div id=\"df-b0849fd6-62a8-4953-abbd-08b89077b152\">\n",
              "  <button class=\"colab-df-quickchart\" onclick=\"quickchart('df-b0849fd6-62a8-4953-abbd-08b89077b152')\"\n",
              "            title=\"Suggest charts\"\n",
              "            style=\"display:none;\">\n",
              "\n",
              "<svg xmlns=\"http://www.w3.org/2000/svg\" height=\"24px\"viewBox=\"0 0 24 24\"\n",
              "     width=\"24px\">\n",
              "    <g>\n",
              "        <path d=\"M19 3H5c-1.1 0-2 .9-2 2v14c0 1.1.9 2 2 2h14c1.1 0 2-.9 2-2V5c0-1.1-.9-2-2-2zM9 17H7v-7h2v7zm4 0h-2V7h2v10zm4 0h-2v-4h2v4z\"/>\n",
              "    </g>\n",
              "</svg>\n",
              "  </button>\n",
              "\n",
              "<style>\n",
              "  .colab-df-quickchart {\n",
              "      --bg-color: #E8F0FE;\n",
              "      --fill-color: #1967D2;\n",
              "      --hover-bg-color: #E2EBFA;\n",
              "      --hover-fill-color: #174EA6;\n",
              "      --disabled-fill-color: #AAA;\n",
              "      --disabled-bg-color: #DDD;\n",
              "  }\n",
              "\n",
              "  [theme=dark] .colab-df-quickchart {\n",
              "      --bg-color: #3B4455;\n",
              "      --fill-color: #D2E3FC;\n",
              "      --hover-bg-color: #434B5C;\n",
              "      --hover-fill-color: #FFFFFF;\n",
              "      --disabled-bg-color: #3B4455;\n",
              "      --disabled-fill-color: #666;\n",
              "  }\n",
              "\n",
              "  .colab-df-quickchart {\n",
              "    background-color: var(--bg-color);\n",
              "    border: none;\n",
              "    border-radius: 50%;\n",
              "    cursor: pointer;\n",
              "    display: none;\n",
              "    fill: var(--fill-color);\n",
              "    height: 32px;\n",
              "    padding: 0;\n",
              "    width: 32px;\n",
              "  }\n",
              "\n",
              "  .colab-df-quickchart:hover {\n",
              "    background-color: var(--hover-bg-color);\n",
              "    box-shadow: 0 1px 2px rgba(60, 64, 67, 0.3), 0 1px 3px 1px rgba(60, 64, 67, 0.15);\n",
              "    fill: var(--button-hover-fill-color);\n",
              "  }\n",
              "\n",
              "  .colab-df-quickchart-complete:disabled,\n",
              "  .colab-df-quickchart-complete:disabled:hover {\n",
              "    background-color: var(--disabled-bg-color);\n",
              "    fill: var(--disabled-fill-color);\n",
              "    box-shadow: none;\n",
              "  }\n",
              "\n",
              "  .colab-df-spinner {\n",
              "    border: 2px solid var(--fill-color);\n",
              "    border-color: transparent;\n",
              "    border-bottom-color: var(--fill-color);\n",
              "    animation:\n",
              "      spin 1s steps(1) infinite;\n",
              "  }\n",
              "\n",
              "  @keyframes spin {\n",
              "    0% {\n",
              "      border-color: transparent;\n",
              "      border-bottom-color: var(--fill-color);\n",
              "      border-left-color: var(--fill-color);\n",
              "    }\n",
              "    20% {\n",
              "      border-color: transparent;\n",
              "      border-left-color: var(--fill-color);\n",
              "      border-top-color: var(--fill-color);\n",
              "    }\n",
              "    30% {\n",
              "      border-color: transparent;\n",
              "      border-left-color: var(--fill-color);\n",
              "      border-top-color: var(--fill-color);\n",
              "      border-right-color: var(--fill-color);\n",
              "    }\n",
              "    40% {\n",
              "      border-color: transparent;\n",
              "      border-right-color: var(--fill-color);\n",
              "      border-top-color: var(--fill-color);\n",
              "    }\n",
              "    60% {\n",
              "      border-color: transparent;\n",
              "      border-right-color: var(--fill-color);\n",
              "    }\n",
              "    80% {\n",
              "      border-color: transparent;\n",
              "      border-right-color: var(--fill-color);\n",
              "      border-bottom-color: var(--fill-color);\n",
              "    }\n",
              "    90% {\n",
              "      border-color: transparent;\n",
              "      border-bottom-color: var(--fill-color);\n",
              "    }\n",
              "  }\n",
              "</style>\n",
              "\n",
              "  <script>\n",
              "    async function quickchart(key) {\n",
              "      const quickchartButtonEl =\n",
              "        document.querySelector('#' + key + ' button');\n",
              "      quickchartButtonEl.disabled = true;  // To prevent multiple clicks.\n",
              "      quickchartButtonEl.classList.add('colab-df-spinner');\n",
              "      try {\n",
              "        const charts = await google.colab.kernel.invokeFunction(\n",
              "            'suggestCharts', [key], {});\n",
              "      } catch (error) {\n",
              "        console.error('Error during call to suggestCharts:', error);\n",
              "      }\n",
              "      quickchartButtonEl.classList.remove('colab-df-spinner');\n",
              "      quickchartButtonEl.classList.add('colab-df-quickchart-complete');\n",
              "    }\n",
              "    (() => {\n",
              "      let quickchartButtonEl =\n",
              "        document.querySelector('#df-b0849fd6-62a8-4953-abbd-08b89077b152 button');\n",
              "      quickchartButtonEl.style.display =\n",
              "        google.colab.kernel.accessAllowed ? 'block' : 'none';\n",
              "    })();\n",
              "  </script>\n",
              "</div>\n",
              "\n",
              "  <div id=\"id_02e7acc9-a255-41ee-8fb5-f774b65a8fd7\">\n",
              "    <style>\n",
              "      .colab-df-generate {\n",
              "        background-color: #E8F0FE;\n",
              "        border: none;\n",
              "        border-radius: 50%;\n",
              "        cursor: pointer;\n",
              "        display: none;\n",
              "        fill: #1967D2;\n",
              "        height: 32px;\n",
              "        padding: 0 0 0 0;\n",
              "        width: 32px;\n",
              "      }\n",
              "\n",
              "      .colab-df-generate:hover {\n",
              "        background-color: #E2EBFA;\n",
              "        box-shadow: 0px 1px 2px rgba(60, 64, 67, 0.3), 0px 1px 3px 1px rgba(60, 64, 67, 0.15);\n",
              "        fill: #174EA6;\n",
              "      }\n",
              "\n",
              "      [theme=dark] .colab-df-generate {\n",
              "        background-color: #3B4455;\n",
              "        fill: #D2E3FC;\n",
              "      }\n",
              "\n",
              "      [theme=dark] .colab-df-generate:hover {\n",
              "        background-color: #434B5C;\n",
              "        box-shadow: 0px 1px 3px 1px rgba(0, 0, 0, 0.15);\n",
              "        filter: drop-shadow(0px 1px 2px rgba(0, 0, 0, 0.3));\n",
              "        fill: #FFFFFF;\n",
              "      }\n",
              "    </style>\n",
              "    <button class=\"colab-df-generate\" onclick=\"generateWithVariable('squinky_data')\"\n",
              "            title=\"Generate code using this dataframe.\"\n",
              "            style=\"display:none;\">\n",
              "\n",
              "  <svg xmlns=\"http://www.w3.org/2000/svg\" height=\"24px\"viewBox=\"0 0 24 24\"\n",
              "       width=\"24px\">\n",
              "    <path d=\"M7,19H8.4L18.45,9,17,7.55,7,17.6ZM5,21V16.75L18.45,3.32a2,2,0,0,1,2.83,0l1.4,1.43a1.91,1.91,0,0,1,.58,1.4,1.91,1.91,0,0,1-.58,1.4L9.25,21ZM18.45,9,17,7.55Zm-12,3A5.31,5.31,0,0,0,4.9,8.1,5.31,5.31,0,0,0,1,6.5,5.31,5.31,0,0,0,4.9,4.9,5.31,5.31,0,0,0,6.5,1,5.31,5.31,0,0,0,8.1,4.9,5.31,5.31,0,0,0,12,6.5,5.46,5.46,0,0,0,6.5,12Z\"/>\n",
              "  </svg>\n",
              "    </button>\n",
              "    <script>\n",
              "      (() => {\n",
              "      const buttonEl =\n",
              "        document.querySelector('#id_02e7acc9-a255-41ee-8fb5-f774b65a8fd7 button.colab-df-generate');\n",
              "      buttonEl.style.display =\n",
              "        google.colab.kernel.accessAllowed ? 'block' : 'none';\n",
              "\n",
              "      buttonEl.onclick = () => {\n",
              "        google.colab.notebook.generateWithVariable('squinky_data');\n",
              "      }\n",
              "      })();\n",
              "    </script>\n",
              "  </div>\n",
              "\n",
              "    </div>\n",
              "  </div>\n"
            ],
            "application/vnd.google.colaboratory.intrinsic+json": {
              "type": "dataframe",
              "variable_name": "squinky_data",
              "summary": "{\n  \"name\": \"squinky_data\",\n  \"rows\": 7032,\n  \"fields\": [\n    {\n      \"column\": \"sentence\",\n      \"properties\": {\n        \"dtype\": \"string\",\n        \"num_unique_values\": 7032,\n        \"samples\": [\n          \"If you double click it to open it should give you an error message that says, \\\"Can not mount /dev/hdax\\\"  This is where you OS X partition is.\",\n          \"whereIstand.com crowdsources its opinion database -\",\n          \"The younger boy takes the sturdy little boat by himself and rows alongside a friend, like a kid trying out a new bike in the neighborhood without supervision.\"\n        ],\n        \"semantic_type\": \"\",\n        \"description\": \"\"\n      }\n    },\n    {\n      \"column\": \"class\",\n      \"properties\": {\n        \"dtype\": \"number\",\n        \"std\": 0,\n        \"min\": 0,\n        \"max\": 1,\n        \"num_unique_values\": 2,\n        \"samples\": [\n          1,\n          0\n        ],\n        \"semantic_type\": \"\",\n        \"description\": \"\"\n      }\n    }\n  ]\n}"
            }
          },
          "metadata": {},
          "execution_count": 14
        }
      ]
    },
    {
      "cell_type": "markdown",
      "source": [
        "### ChatGPT response data"
      ],
      "metadata": {
        "id": "36lb5gngHMc4"
      }
    },
    {
      "cell_type": "code",
      "source": [
        "! pip install striprtf"
      ],
      "metadata": {
        "colab": {
          "base_uri": "https://localhost:8080/"
        },
        "id": "1Oi7NnGnD3dG",
        "outputId": "73379e45-1cf6-409f-9cba-2a470495761a"
      },
      "execution_count": null,
      "outputs": [
        {
          "output_type": "stream",
          "name": "stdout",
          "text": [
            "Collecting striprtf\n",
            "  Downloading striprtf-0.0.29-py3-none-any.whl.metadata (2.3 kB)\n",
            "Downloading striprtf-0.0.29-py3-none-any.whl (7.9 kB)\n",
            "Installing collected packages: striprtf\n",
            "Successfully installed striprtf-0.0.29\n"
          ]
        }
      ]
    },
    {
      "cell_type": "code",
      "source": [
        "from striprtf.striprtf import rtf_to_text\n",
        "\n",
        "filenames = ['formal_sentences.rtf', 'informal_sentences.rtf', 'middle_sentences.rtf']\n",
        "\n",
        "formal_sentences = []\n",
        "informal_sentences = []\n",
        "\n",
        "for filename in filenames:\n",
        "    with open(filename, 'r', encoding='utf-8') as file:\n",
        "        rtf_content = file.read()\n",
        "\n",
        "        plain_text = rtf_to_text(rtf_content)\n",
        "\n",
        "        plain_text = plain_text.split('\\n')\n",
        "\n",
        "        sentences = [x for x in plain_text if x != '']\n",
        "\n",
        "        if filename == 'formal_sentences.rtf':\n",
        "            formal_sentences = sentences\n",
        "        elif filename == 'informal_sentences.rtf':\n",
        "            informal_sentences = sentences\n",
        "        elif filename == 'middle_sentences.rtf':\n",
        "            for sentence in sentences:\n",
        "              class_ = int(sentence[-2:])\n",
        "              if class_ == 0:\n",
        "                formal_sentences.append(sentence[:-2])\n",
        "              else:\n",
        "                informal_sentences.append(sentence[:-2])"
      ],
      "metadata": {
        "id": "I_-JUz11DMG7"
      },
      "execution_count": null,
      "outputs": []
    },
    {
      "cell_type": "code",
      "source": [
        "formal_sentences[16]"
      ],
      "metadata": {
        "colab": {
          "base_uri": "https://localhost:8080/",
          "height": 35
        },
        "id": "EI3MA8BxD7Rx",
        "outputId": "2d5ed1ff-d426-48e9-e2e5-7680346ddb2e"
      },
      "execution_count": null,
      "outputs": [
        {
          "output_type": "execute_result",
          "data": {
            "text/plain": [
              "'Your insights and advice have been incredibly beneficial.'"
            ],
            "application/vnd.google.colaboratory.intrinsic+json": {
              "type": "string"
            }
          },
          "metadata": {},
          "execution_count": 18
        }
      ]
    },
    {
      "cell_type": "code",
      "source": [
        "informal_sentences[16]"
      ],
      "metadata": {
        "colab": {
          "base_uri": "https://localhost:8080/",
          "height": 35
        },
        "id": "h8z6yMftGn7S",
        "outputId": "17f04562-bfb6-49c9-96db-15435f3b6b12"
      },
      "execution_count": null,
      "outputs": [
        {
          "output_type": "execute_result",
          "data": {
            "text/plain": [
              "'Thanks a bunch, my friend!'"
            ],
            "application/vnd.google.colaboratory.intrinsic+json": {
              "type": "string"
            }
          },
          "metadata": {},
          "execution_count": 19
        }
      ]
    },
    {
      "cell_type": "markdown",
      "source": [
        "### Merge data"
      ],
      "metadata": {
        "id": "7xBsIrmKGuCj"
      }
    },
    {
      "cell_type": "code",
      "source": [
        "gpt_data = [formal_sentences + informal_sentences, [0] * len(formal_sentences) + [1] * len(informal_sentences)]"
      ],
      "metadata": {
        "id": "SKP9NTXZEaro"
      },
      "execution_count": null,
      "outputs": []
    },
    {
      "cell_type": "code",
      "source": [
        "gpt_data = pd.DataFrame(gpt_data, index=['sentence', 'class']).T"
      ],
      "metadata": {
        "id": "iAHjqovZQ5Af"
      },
      "execution_count": null,
      "outputs": []
    },
    {
      "cell_type": "code",
      "source": [
        "gpt_data"
      ],
      "metadata": {
        "colab": {
          "base_uri": "https://localhost:8080/",
          "height": 419
        },
        "id": "7flKftMvOHPC",
        "outputId": "2a03ce3f-3009-4df2-c871-178c36db25f1"
      },
      "execution_count": null,
      "outputs": [
        {
          "output_type": "execute_result",
          "data": {
            "text/plain": [
              "                                              sentence class\n",
              "0    I extend my sincere gratitude for your invalua...     0\n",
              "1       Your presence at the event was truly an honor.     0\n",
              "2    I am profoundly grateful for your unwavering s...     0\n",
              "3    It was an absolute pleasure to collaborate wit...     0\n",
              "4    Please accept my deepest appreciation for your...     0\n",
              "..                                                 ...   ...\n",
              "746     You made all the difference—thank you so much!     1\n",
              "747   Really appreciate how smoothly you handled that!     1\n",
              "748  Can’t thank you enough for your constant support!     1\n",
              "749    Thanks for always bringing a positive attitude!     1\n",
              "750  That was a massive help—couldn’t have done it ...     1\n",
              "\n",
              "[751 rows x 2 columns]"
            ],
            "text/html": [
              "\n",
              "  <div id=\"df-b222e8b6-76d5-494f-a57a-8f14dc8e69a0\" class=\"colab-df-container\">\n",
              "    <div>\n",
              "<style scoped>\n",
              "    .dataframe tbody tr th:only-of-type {\n",
              "        vertical-align: middle;\n",
              "    }\n",
              "\n",
              "    .dataframe tbody tr th {\n",
              "        vertical-align: top;\n",
              "    }\n",
              "\n",
              "    .dataframe thead th {\n",
              "        text-align: right;\n",
              "    }\n",
              "</style>\n",
              "<table border=\"1\" class=\"dataframe\">\n",
              "  <thead>\n",
              "    <tr style=\"text-align: right;\">\n",
              "      <th></th>\n",
              "      <th>sentence</th>\n",
              "      <th>class</th>\n",
              "    </tr>\n",
              "  </thead>\n",
              "  <tbody>\n",
              "    <tr>\n",
              "      <th>0</th>\n",
              "      <td>I extend my sincere gratitude for your invalua...</td>\n",
              "      <td>0</td>\n",
              "    </tr>\n",
              "    <tr>\n",
              "      <th>1</th>\n",
              "      <td>Your presence at the event was truly an honor.</td>\n",
              "      <td>0</td>\n",
              "    </tr>\n",
              "    <tr>\n",
              "      <th>2</th>\n",
              "      <td>I am profoundly grateful for your unwavering s...</td>\n",
              "      <td>0</td>\n",
              "    </tr>\n",
              "    <tr>\n",
              "      <th>3</th>\n",
              "      <td>It was an absolute pleasure to collaborate wit...</td>\n",
              "      <td>0</td>\n",
              "    </tr>\n",
              "    <tr>\n",
              "      <th>4</th>\n",
              "      <td>Please accept my deepest appreciation for your...</td>\n",
              "      <td>0</td>\n",
              "    </tr>\n",
              "    <tr>\n",
              "      <th>...</th>\n",
              "      <td>...</td>\n",
              "      <td>...</td>\n",
              "    </tr>\n",
              "    <tr>\n",
              "      <th>746</th>\n",
              "      <td>You made all the difference—thank you so much!</td>\n",
              "      <td>1</td>\n",
              "    </tr>\n",
              "    <tr>\n",
              "      <th>747</th>\n",
              "      <td>Really appreciate how smoothly you handled that!</td>\n",
              "      <td>1</td>\n",
              "    </tr>\n",
              "    <tr>\n",
              "      <th>748</th>\n",
              "      <td>Can’t thank you enough for your constant support!</td>\n",
              "      <td>1</td>\n",
              "    </tr>\n",
              "    <tr>\n",
              "      <th>749</th>\n",
              "      <td>Thanks for always bringing a positive attitude!</td>\n",
              "      <td>1</td>\n",
              "    </tr>\n",
              "    <tr>\n",
              "      <th>750</th>\n",
              "      <td>That was a massive help—couldn’t have done it ...</td>\n",
              "      <td>1</td>\n",
              "    </tr>\n",
              "  </tbody>\n",
              "</table>\n",
              "<p>751 rows × 2 columns</p>\n",
              "</div>\n",
              "    <div class=\"colab-df-buttons\">\n",
              "\n",
              "  <div class=\"colab-df-container\">\n",
              "    <button class=\"colab-df-convert\" onclick=\"convertToInteractive('df-b222e8b6-76d5-494f-a57a-8f14dc8e69a0')\"\n",
              "            title=\"Convert this dataframe to an interactive table.\"\n",
              "            style=\"display:none;\">\n",
              "\n",
              "  <svg xmlns=\"http://www.w3.org/2000/svg\" height=\"24px\" viewBox=\"0 -960 960 960\">\n",
              "    <path d=\"M120-120v-720h720v720H120Zm60-500h600v-160H180v160Zm220 220h160v-160H400v160Zm0 220h160v-160H400v160ZM180-400h160v-160H180v160Zm440 0h160v-160H620v160ZM180-180h160v-160H180v160Zm440 0h160v-160H620v160Z\"/>\n",
              "  </svg>\n",
              "    </button>\n",
              "\n",
              "  <style>\n",
              "    .colab-df-container {\n",
              "      display:flex;\n",
              "      gap: 12px;\n",
              "    }\n",
              "\n",
              "    .colab-df-convert {\n",
              "      background-color: #E8F0FE;\n",
              "      border: none;\n",
              "      border-radius: 50%;\n",
              "      cursor: pointer;\n",
              "      display: none;\n",
              "      fill: #1967D2;\n",
              "      height: 32px;\n",
              "      padding: 0 0 0 0;\n",
              "      width: 32px;\n",
              "    }\n",
              "\n",
              "    .colab-df-convert:hover {\n",
              "      background-color: #E2EBFA;\n",
              "      box-shadow: 0px 1px 2px rgba(60, 64, 67, 0.3), 0px 1px 3px 1px rgba(60, 64, 67, 0.15);\n",
              "      fill: #174EA6;\n",
              "    }\n",
              "\n",
              "    .colab-df-buttons div {\n",
              "      margin-bottom: 4px;\n",
              "    }\n",
              "\n",
              "    [theme=dark] .colab-df-convert {\n",
              "      background-color: #3B4455;\n",
              "      fill: #D2E3FC;\n",
              "    }\n",
              "\n",
              "    [theme=dark] .colab-df-convert:hover {\n",
              "      background-color: #434B5C;\n",
              "      box-shadow: 0px 1px 3px 1px rgba(0, 0, 0, 0.15);\n",
              "      filter: drop-shadow(0px 1px 2px rgba(0, 0, 0, 0.3));\n",
              "      fill: #FFFFFF;\n",
              "    }\n",
              "  </style>\n",
              "\n",
              "    <script>\n",
              "      const buttonEl =\n",
              "        document.querySelector('#df-b222e8b6-76d5-494f-a57a-8f14dc8e69a0 button.colab-df-convert');\n",
              "      buttonEl.style.display =\n",
              "        google.colab.kernel.accessAllowed ? 'block' : 'none';\n",
              "\n",
              "      async function convertToInteractive(key) {\n",
              "        const element = document.querySelector('#df-b222e8b6-76d5-494f-a57a-8f14dc8e69a0');\n",
              "        const dataTable =\n",
              "          await google.colab.kernel.invokeFunction('convertToInteractive',\n",
              "                                                    [key], {});\n",
              "        if (!dataTable) return;\n",
              "\n",
              "        const docLinkHtml = 'Like what you see? Visit the ' +\n",
              "          '<a target=\"_blank\" href=https://colab.research.google.com/notebooks/data_table.ipynb>data table notebook</a>'\n",
              "          + ' to learn more about interactive tables.';\n",
              "        element.innerHTML = '';\n",
              "        dataTable['output_type'] = 'display_data';\n",
              "        await google.colab.output.renderOutput(dataTable, element);\n",
              "        const docLink = document.createElement('div');\n",
              "        docLink.innerHTML = docLinkHtml;\n",
              "        element.appendChild(docLink);\n",
              "      }\n",
              "    </script>\n",
              "  </div>\n",
              "\n",
              "\n",
              "<div id=\"df-85f4ba4c-2110-4e89-8f9b-256ce2bda6d3\">\n",
              "  <button class=\"colab-df-quickchart\" onclick=\"quickchart('df-85f4ba4c-2110-4e89-8f9b-256ce2bda6d3')\"\n",
              "            title=\"Suggest charts\"\n",
              "            style=\"display:none;\">\n",
              "\n",
              "<svg xmlns=\"http://www.w3.org/2000/svg\" height=\"24px\"viewBox=\"0 0 24 24\"\n",
              "     width=\"24px\">\n",
              "    <g>\n",
              "        <path d=\"M19 3H5c-1.1 0-2 .9-2 2v14c0 1.1.9 2 2 2h14c1.1 0 2-.9 2-2V5c0-1.1-.9-2-2-2zM9 17H7v-7h2v7zm4 0h-2V7h2v10zm4 0h-2v-4h2v4z\"/>\n",
              "    </g>\n",
              "</svg>\n",
              "  </button>\n",
              "\n",
              "<style>\n",
              "  .colab-df-quickchart {\n",
              "      --bg-color: #E8F0FE;\n",
              "      --fill-color: #1967D2;\n",
              "      --hover-bg-color: #E2EBFA;\n",
              "      --hover-fill-color: #174EA6;\n",
              "      --disabled-fill-color: #AAA;\n",
              "      --disabled-bg-color: #DDD;\n",
              "  }\n",
              "\n",
              "  [theme=dark] .colab-df-quickchart {\n",
              "      --bg-color: #3B4455;\n",
              "      --fill-color: #D2E3FC;\n",
              "      --hover-bg-color: #434B5C;\n",
              "      --hover-fill-color: #FFFFFF;\n",
              "      --disabled-bg-color: #3B4455;\n",
              "      --disabled-fill-color: #666;\n",
              "  }\n",
              "\n",
              "  .colab-df-quickchart {\n",
              "    background-color: var(--bg-color);\n",
              "    border: none;\n",
              "    border-radius: 50%;\n",
              "    cursor: pointer;\n",
              "    display: none;\n",
              "    fill: var(--fill-color);\n",
              "    height: 32px;\n",
              "    padding: 0;\n",
              "    width: 32px;\n",
              "  }\n",
              "\n",
              "  .colab-df-quickchart:hover {\n",
              "    background-color: var(--hover-bg-color);\n",
              "    box-shadow: 0 1px 2px rgba(60, 64, 67, 0.3), 0 1px 3px 1px rgba(60, 64, 67, 0.15);\n",
              "    fill: var(--button-hover-fill-color);\n",
              "  }\n",
              "\n",
              "  .colab-df-quickchart-complete:disabled,\n",
              "  .colab-df-quickchart-complete:disabled:hover {\n",
              "    background-color: var(--disabled-bg-color);\n",
              "    fill: var(--disabled-fill-color);\n",
              "    box-shadow: none;\n",
              "  }\n",
              "\n",
              "  .colab-df-spinner {\n",
              "    border: 2px solid var(--fill-color);\n",
              "    border-color: transparent;\n",
              "    border-bottom-color: var(--fill-color);\n",
              "    animation:\n",
              "      spin 1s steps(1) infinite;\n",
              "  }\n",
              "\n",
              "  @keyframes spin {\n",
              "    0% {\n",
              "      border-color: transparent;\n",
              "      border-bottom-color: var(--fill-color);\n",
              "      border-left-color: var(--fill-color);\n",
              "    }\n",
              "    20% {\n",
              "      border-color: transparent;\n",
              "      border-left-color: var(--fill-color);\n",
              "      border-top-color: var(--fill-color);\n",
              "    }\n",
              "    30% {\n",
              "      border-color: transparent;\n",
              "      border-left-color: var(--fill-color);\n",
              "      border-top-color: var(--fill-color);\n",
              "      border-right-color: var(--fill-color);\n",
              "    }\n",
              "    40% {\n",
              "      border-color: transparent;\n",
              "      border-right-color: var(--fill-color);\n",
              "      border-top-color: var(--fill-color);\n",
              "    }\n",
              "    60% {\n",
              "      border-color: transparent;\n",
              "      border-right-color: var(--fill-color);\n",
              "    }\n",
              "    80% {\n",
              "      border-color: transparent;\n",
              "      border-right-color: var(--fill-color);\n",
              "      border-bottom-color: var(--fill-color);\n",
              "    }\n",
              "    90% {\n",
              "      border-color: transparent;\n",
              "      border-bottom-color: var(--fill-color);\n",
              "    }\n",
              "  }\n",
              "</style>\n",
              "\n",
              "  <script>\n",
              "    async function quickchart(key) {\n",
              "      const quickchartButtonEl =\n",
              "        document.querySelector('#' + key + ' button');\n",
              "      quickchartButtonEl.disabled = true;  // To prevent multiple clicks.\n",
              "      quickchartButtonEl.classList.add('colab-df-spinner');\n",
              "      try {\n",
              "        const charts = await google.colab.kernel.invokeFunction(\n",
              "            'suggestCharts', [key], {});\n",
              "      } catch (error) {\n",
              "        console.error('Error during call to suggestCharts:', error);\n",
              "      }\n",
              "      quickchartButtonEl.classList.remove('colab-df-spinner');\n",
              "      quickchartButtonEl.classList.add('colab-df-quickchart-complete');\n",
              "    }\n",
              "    (() => {\n",
              "      let quickchartButtonEl =\n",
              "        document.querySelector('#df-85f4ba4c-2110-4e89-8f9b-256ce2bda6d3 button');\n",
              "      quickchartButtonEl.style.display =\n",
              "        google.colab.kernel.accessAllowed ? 'block' : 'none';\n",
              "    })();\n",
              "  </script>\n",
              "</div>\n",
              "\n",
              "  <div id=\"id_c6229e4e-a05b-4018-8919-66893a75d40c\">\n",
              "    <style>\n",
              "      .colab-df-generate {\n",
              "        background-color: #E8F0FE;\n",
              "        border: none;\n",
              "        border-radius: 50%;\n",
              "        cursor: pointer;\n",
              "        display: none;\n",
              "        fill: #1967D2;\n",
              "        height: 32px;\n",
              "        padding: 0 0 0 0;\n",
              "        width: 32px;\n",
              "      }\n",
              "\n",
              "      .colab-df-generate:hover {\n",
              "        background-color: #E2EBFA;\n",
              "        box-shadow: 0px 1px 2px rgba(60, 64, 67, 0.3), 0px 1px 3px 1px rgba(60, 64, 67, 0.15);\n",
              "        fill: #174EA6;\n",
              "      }\n",
              "\n",
              "      [theme=dark] .colab-df-generate {\n",
              "        background-color: #3B4455;\n",
              "        fill: #D2E3FC;\n",
              "      }\n",
              "\n",
              "      [theme=dark] .colab-df-generate:hover {\n",
              "        background-color: #434B5C;\n",
              "        box-shadow: 0px 1px 3px 1px rgba(0, 0, 0, 0.15);\n",
              "        filter: drop-shadow(0px 1px 2px rgba(0, 0, 0, 0.3));\n",
              "        fill: #FFFFFF;\n",
              "      }\n",
              "    </style>\n",
              "    <button class=\"colab-df-generate\" onclick=\"generateWithVariable('gpt_data')\"\n",
              "            title=\"Generate code using this dataframe.\"\n",
              "            style=\"display:none;\">\n",
              "\n",
              "  <svg xmlns=\"http://www.w3.org/2000/svg\" height=\"24px\"viewBox=\"0 0 24 24\"\n",
              "       width=\"24px\">\n",
              "    <path d=\"M7,19H8.4L18.45,9,17,7.55,7,17.6ZM5,21V16.75L18.45,3.32a2,2,0,0,1,2.83,0l1.4,1.43a1.91,1.91,0,0,1,.58,1.4,1.91,1.91,0,0,1-.58,1.4L9.25,21ZM18.45,9,17,7.55Zm-12,3A5.31,5.31,0,0,0,4.9,8.1,5.31,5.31,0,0,0,1,6.5,5.31,5.31,0,0,0,4.9,4.9,5.31,5.31,0,0,0,6.5,1,5.31,5.31,0,0,0,8.1,4.9,5.31,5.31,0,0,0,12,6.5,5.46,5.46,0,0,0,6.5,12Z\"/>\n",
              "  </svg>\n",
              "    </button>\n",
              "    <script>\n",
              "      (() => {\n",
              "      const buttonEl =\n",
              "        document.querySelector('#id_c6229e4e-a05b-4018-8919-66893a75d40c button.colab-df-generate');\n",
              "      buttonEl.style.display =\n",
              "        google.colab.kernel.accessAllowed ? 'block' : 'none';\n",
              "\n",
              "      buttonEl.onclick = () => {\n",
              "        google.colab.notebook.generateWithVariable('gpt_data');\n",
              "      }\n",
              "      })();\n",
              "    </script>\n",
              "  </div>\n",
              "\n",
              "    </div>\n",
              "  </div>\n"
            ],
            "application/vnd.google.colaboratory.intrinsic+json": {
              "type": "dataframe",
              "variable_name": "gpt_data",
              "summary": "{\n  \"name\": \"gpt_data\",\n  \"rows\": 751,\n  \"fields\": [\n    {\n      \"column\": \"sentence\",\n      \"properties\": {\n        \"dtype\": \"string\",\n        \"num_unique_values\": 742,\n        \"samples\": [\n          \"I extend my heartfelt thanks for your dedicated service.\",\n          \"Your dedication to upholding the highest standards is truly impressive.\",\n          \"Your input has been nothing short of essential in this process.\"\n        ],\n        \"semantic_type\": \"\",\n        \"description\": \"\"\n      }\n    },\n    {\n      \"column\": \"class\",\n      \"properties\": {\n        \"dtype\": \"date\",\n        \"min\": 0,\n        \"max\": 1,\n        \"num_unique_values\": 2,\n        \"samples\": [\n          1,\n          0\n        ],\n        \"semantic_type\": \"\",\n        \"description\": \"\"\n      }\n    }\n  ]\n}"
            }
          },
          "metadata": {},
          "execution_count": 22
        }
      ]
    },
    {
      "cell_type": "code",
      "source": [
        "all_data = pd.concat([squinky_data, gpt_data], ignore_index=True)"
      ],
      "metadata": {
        "id": "gE1O5pLSRKGu"
      },
      "execution_count": null,
      "outputs": []
    },
    {
      "cell_type": "code",
      "source": [
        "all_data"
      ],
      "metadata": {
        "colab": {
          "base_uri": "https://localhost:8080/",
          "height": 419
        },
        "id": "2W58ThKrRLl2",
        "outputId": "1f44094d-cb81-48f9-c0b9-ad70704657fd"
      },
      "execution_count": null,
      "outputs": [
        {
          "output_type": "execute_result",
          "data": {
            "text/plain": [
              "                                               sentence class\n",
              "0     10In High Bay 4 of the Vehicle Assembly Buildi...     0\n",
              "1     12The oxygen vent arm and hood removed from th...     0\n",
              "2     13In the Rotation, Processing and Surge Facili...     0\n",
              "3     14In the Vehicle Assembly Building's High Bay ...     0\n",
              "4     15In the Vehicle Assembly Building's High Bay ...     0\n",
              "...                                                 ...   ...\n",
              "7778     You made all the difference—thank you so much!     1\n",
              "7779   Really appreciate how smoothly you handled that!     1\n",
              "7780  Can’t thank you enough for your constant support!     1\n",
              "7781    Thanks for always bringing a positive attitude!     1\n",
              "7782  That was a massive help—couldn’t have done it ...     1\n",
              "\n",
              "[7783 rows x 2 columns]"
            ],
            "text/html": [
              "\n",
              "  <div id=\"df-8b1ff54b-8c88-4b9b-9c62-c743a83438e4\" class=\"colab-df-container\">\n",
              "    <div>\n",
              "<style scoped>\n",
              "    .dataframe tbody tr th:only-of-type {\n",
              "        vertical-align: middle;\n",
              "    }\n",
              "\n",
              "    .dataframe tbody tr th {\n",
              "        vertical-align: top;\n",
              "    }\n",
              "\n",
              "    .dataframe thead th {\n",
              "        text-align: right;\n",
              "    }\n",
              "</style>\n",
              "<table border=\"1\" class=\"dataframe\">\n",
              "  <thead>\n",
              "    <tr style=\"text-align: right;\">\n",
              "      <th></th>\n",
              "      <th>sentence</th>\n",
              "      <th>class</th>\n",
              "    </tr>\n",
              "  </thead>\n",
              "  <tbody>\n",
              "    <tr>\n",
              "      <th>0</th>\n",
              "      <td>10In High Bay 4 of the Vehicle Assembly Buildi...</td>\n",
              "      <td>0</td>\n",
              "    </tr>\n",
              "    <tr>\n",
              "      <th>1</th>\n",
              "      <td>12The oxygen vent arm and hood removed from th...</td>\n",
              "      <td>0</td>\n",
              "    </tr>\n",
              "    <tr>\n",
              "      <th>2</th>\n",
              "      <td>13In the Rotation, Processing and Surge Facili...</td>\n",
              "      <td>0</td>\n",
              "    </tr>\n",
              "    <tr>\n",
              "      <th>3</th>\n",
              "      <td>14In the Vehicle Assembly Building's High Bay ...</td>\n",
              "      <td>0</td>\n",
              "    </tr>\n",
              "    <tr>\n",
              "      <th>4</th>\n",
              "      <td>15In the Vehicle Assembly Building's High Bay ...</td>\n",
              "      <td>0</td>\n",
              "    </tr>\n",
              "    <tr>\n",
              "      <th>...</th>\n",
              "      <td>...</td>\n",
              "      <td>...</td>\n",
              "    </tr>\n",
              "    <tr>\n",
              "      <th>7778</th>\n",
              "      <td>You made all the difference—thank you so much!</td>\n",
              "      <td>1</td>\n",
              "    </tr>\n",
              "    <tr>\n",
              "      <th>7779</th>\n",
              "      <td>Really appreciate how smoothly you handled that!</td>\n",
              "      <td>1</td>\n",
              "    </tr>\n",
              "    <tr>\n",
              "      <th>7780</th>\n",
              "      <td>Can’t thank you enough for your constant support!</td>\n",
              "      <td>1</td>\n",
              "    </tr>\n",
              "    <tr>\n",
              "      <th>7781</th>\n",
              "      <td>Thanks for always bringing a positive attitude!</td>\n",
              "      <td>1</td>\n",
              "    </tr>\n",
              "    <tr>\n",
              "      <th>7782</th>\n",
              "      <td>That was a massive help—couldn’t have done it ...</td>\n",
              "      <td>1</td>\n",
              "    </tr>\n",
              "  </tbody>\n",
              "</table>\n",
              "<p>7783 rows × 2 columns</p>\n",
              "</div>\n",
              "    <div class=\"colab-df-buttons\">\n",
              "\n",
              "  <div class=\"colab-df-container\">\n",
              "    <button class=\"colab-df-convert\" onclick=\"convertToInteractive('df-8b1ff54b-8c88-4b9b-9c62-c743a83438e4')\"\n",
              "            title=\"Convert this dataframe to an interactive table.\"\n",
              "            style=\"display:none;\">\n",
              "\n",
              "  <svg xmlns=\"http://www.w3.org/2000/svg\" height=\"24px\" viewBox=\"0 -960 960 960\">\n",
              "    <path d=\"M120-120v-720h720v720H120Zm60-500h600v-160H180v160Zm220 220h160v-160H400v160Zm0 220h160v-160H400v160ZM180-400h160v-160H180v160Zm440 0h160v-160H620v160ZM180-180h160v-160H180v160Zm440 0h160v-160H620v160Z\"/>\n",
              "  </svg>\n",
              "    </button>\n",
              "\n",
              "  <style>\n",
              "    .colab-df-container {\n",
              "      display:flex;\n",
              "      gap: 12px;\n",
              "    }\n",
              "\n",
              "    .colab-df-convert {\n",
              "      background-color: #E8F0FE;\n",
              "      border: none;\n",
              "      border-radius: 50%;\n",
              "      cursor: pointer;\n",
              "      display: none;\n",
              "      fill: #1967D2;\n",
              "      height: 32px;\n",
              "      padding: 0 0 0 0;\n",
              "      width: 32px;\n",
              "    }\n",
              "\n",
              "    .colab-df-convert:hover {\n",
              "      background-color: #E2EBFA;\n",
              "      box-shadow: 0px 1px 2px rgba(60, 64, 67, 0.3), 0px 1px 3px 1px rgba(60, 64, 67, 0.15);\n",
              "      fill: #174EA6;\n",
              "    }\n",
              "\n",
              "    .colab-df-buttons div {\n",
              "      margin-bottom: 4px;\n",
              "    }\n",
              "\n",
              "    [theme=dark] .colab-df-convert {\n",
              "      background-color: #3B4455;\n",
              "      fill: #D2E3FC;\n",
              "    }\n",
              "\n",
              "    [theme=dark] .colab-df-convert:hover {\n",
              "      background-color: #434B5C;\n",
              "      box-shadow: 0px 1px 3px 1px rgba(0, 0, 0, 0.15);\n",
              "      filter: drop-shadow(0px 1px 2px rgba(0, 0, 0, 0.3));\n",
              "      fill: #FFFFFF;\n",
              "    }\n",
              "  </style>\n",
              "\n",
              "    <script>\n",
              "      const buttonEl =\n",
              "        document.querySelector('#df-8b1ff54b-8c88-4b9b-9c62-c743a83438e4 button.colab-df-convert');\n",
              "      buttonEl.style.display =\n",
              "        google.colab.kernel.accessAllowed ? 'block' : 'none';\n",
              "\n",
              "      async function convertToInteractive(key) {\n",
              "        const element = document.querySelector('#df-8b1ff54b-8c88-4b9b-9c62-c743a83438e4');\n",
              "        const dataTable =\n",
              "          await google.colab.kernel.invokeFunction('convertToInteractive',\n",
              "                                                    [key], {});\n",
              "        if (!dataTable) return;\n",
              "\n",
              "        const docLinkHtml = 'Like what you see? Visit the ' +\n",
              "          '<a target=\"_blank\" href=https://colab.research.google.com/notebooks/data_table.ipynb>data table notebook</a>'\n",
              "          + ' to learn more about interactive tables.';\n",
              "        element.innerHTML = '';\n",
              "        dataTable['output_type'] = 'display_data';\n",
              "        await google.colab.output.renderOutput(dataTable, element);\n",
              "        const docLink = document.createElement('div');\n",
              "        docLink.innerHTML = docLinkHtml;\n",
              "        element.appendChild(docLink);\n",
              "      }\n",
              "    </script>\n",
              "  </div>\n",
              "\n",
              "\n",
              "<div id=\"df-32c11dc1-4bf8-435b-b953-b53d728dd863\">\n",
              "  <button class=\"colab-df-quickchart\" onclick=\"quickchart('df-32c11dc1-4bf8-435b-b953-b53d728dd863')\"\n",
              "            title=\"Suggest charts\"\n",
              "            style=\"display:none;\">\n",
              "\n",
              "<svg xmlns=\"http://www.w3.org/2000/svg\" height=\"24px\"viewBox=\"0 0 24 24\"\n",
              "     width=\"24px\">\n",
              "    <g>\n",
              "        <path d=\"M19 3H5c-1.1 0-2 .9-2 2v14c0 1.1.9 2 2 2h14c1.1 0 2-.9 2-2V5c0-1.1-.9-2-2-2zM9 17H7v-7h2v7zm4 0h-2V7h2v10zm4 0h-2v-4h2v4z\"/>\n",
              "    </g>\n",
              "</svg>\n",
              "  </button>\n",
              "\n",
              "<style>\n",
              "  .colab-df-quickchart {\n",
              "      --bg-color: #E8F0FE;\n",
              "      --fill-color: #1967D2;\n",
              "      --hover-bg-color: #E2EBFA;\n",
              "      --hover-fill-color: #174EA6;\n",
              "      --disabled-fill-color: #AAA;\n",
              "      --disabled-bg-color: #DDD;\n",
              "  }\n",
              "\n",
              "  [theme=dark] .colab-df-quickchart {\n",
              "      --bg-color: #3B4455;\n",
              "      --fill-color: #D2E3FC;\n",
              "      --hover-bg-color: #434B5C;\n",
              "      --hover-fill-color: #FFFFFF;\n",
              "      --disabled-bg-color: #3B4455;\n",
              "      --disabled-fill-color: #666;\n",
              "  }\n",
              "\n",
              "  .colab-df-quickchart {\n",
              "    background-color: var(--bg-color);\n",
              "    border: none;\n",
              "    border-radius: 50%;\n",
              "    cursor: pointer;\n",
              "    display: none;\n",
              "    fill: var(--fill-color);\n",
              "    height: 32px;\n",
              "    padding: 0;\n",
              "    width: 32px;\n",
              "  }\n",
              "\n",
              "  .colab-df-quickchart:hover {\n",
              "    background-color: var(--hover-bg-color);\n",
              "    box-shadow: 0 1px 2px rgba(60, 64, 67, 0.3), 0 1px 3px 1px rgba(60, 64, 67, 0.15);\n",
              "    fill: var(--button-hover-fill-color);\n",
              "  }\n",
              "\n",
              "  .colab-df-quickchart-complete:disabled,\n",
              "  .colab-df-quickchart-complete:disabled:hover {\n",
              "    background-color: var(--disabled-bg-color);\n",
              "    fill: var(--disabled-fill-color);\n",
              "    box-shadow: none;\n",
              "  }\n",
              "\n",
              "  .colab-df-spinner {\n",
              "    border: 2px solid var(--fill-color);\n",
              "    border-color: transparent;\n",
              "    border-bottom-color: var(--fill-color);\n",
              "    animation:\n",
              "      spin 1s steps(1) infinite;\n",
              "  }\n",
              "\n",
              "  @keyframes spin {\n",
              "    0% {\n",
              "      border-color: transparent;\n",
              "      border-bottom-color: var(--fill-color);\n",
              "      border-left-color: var(--fill-color);\n",
              "    }\n",
              "    20% {\n",
              "      border-color: transparent;\n",
              "      border-left-color: var(--fill-color);\n",
              "      border-top-color: var(--fill-color);\n",
              "    }\n",
              "    30% {\n",
              "      border-color: transparent;\n",
              "      border-left-color: var(--fill-color);\n",
              "      border-top-color: var(--fill-color);\n",
              "      border-right-color: var(--fill-color);\n",
              "    }\n",
              "    40% {\n",
              "      border-color: transparent;\n",
              "      border-right-color: var(--fill-color);\n",
              "      border-top-color: var(--fill-color);\n",
              "    }\n",
              "    60% {\n",
              "      border-color: transparent;\n",
              "      border-right-color: var(--fill-color);\n",
              "    }\n",
              "    80% {\n",
              "      border-color: transparent;\n",
              "      border-right-color: var(--fill-color);\n",
              "      border-bottom-color: var(--fill-color);\n",
              "    }\n",
              "    90% {\n",
              "      border-color: transparent;\n",
              "      border-bottom-color: var(--fill-color);\n",
              "    }\n",
              "  }\n",
              "</style>\n",
              "\n",
              "  <script>\n",
              "    async function quickchart(key) {\n",
              "      const quickchartButtonEl =\n",
              "        document.querySelector('#' + key + ' button');\n",
              "      quickchartButtonEl.disabled = true;  // To prevent multiple clicks.\n",
              "      quickchartButtonEl.classList.add('colab-df-spinner');\n",
              "      try {\n",
              "        const charts = await google.colab.kernel.invokeFunction(\n",
              "            'suggestCharts', [key], {});\n",
              "      } catch (error) {\n",
              "        console.error('Error during call to suggestCharts:', error);\n",
              "      }\n",
              "      quickchartButtonEl.classList.remove('colab-df-spinner');\n",
              "      quickchartButtonEl.classList.add('colab-df-quickchart-complete');\n",
              "    }\n",
              "    (() => {\n",
              "      let quickchartButtonEl =\n",
              "        document.querySelector('#df-32c11dc1-4bf8-435b-b953-b53d728dd863 button');\n",
              "      quickchartButtonEl.style.display =\n",
              "        google.colab.kernel.accessAllowed ? 'block' : 'none';\n",
              "    })();\n",
              "  </script>\n",
              "</div>\n",
              "\n",
              "  <div id=\"id_9f0193c6-20af-4c44-8cec-849c9a4c2506\">\n",
              "    <style>\n",
              "      .colab-df-generate {\n",
              "        background-color: #E8F0FE;\n",
              "        border: none;\n",
              "        border-radius: 50%;\n",
              "        cursor: pointer;\n",
              "        display: none;\n",
              "        fill: #1967D2;\n",
              "        height: 32px;\n",
              "        padding: 0 0 0 0;\n",
              "        width: 32px;\n",
              "      }\n",
              "\n",
              "      .colab-df-generate:hover {\n",
              "        background-color: #E2EBFA;\n",
              "        box-shadow: 0px 1px 2px rgba(60, 64, 67, 0.3), 0px 1px 3px 1px rgba(60, 64, 67, 0.15);\n",
              "        fill: #174EA6;\n",
              "      }\n",
              "\n",
              "      [theme=dark] .colab-df-generate {\n",
              "        background-color: #3B4455;\n",
              "        fill: #D2E3FC;\n",
              "      }\n",
              "\n",
              "      [theme=dark] .colab-df-generate:hover {\n",
              "        background-color: #434B5C;\n",
              "        box-shadow: 0px 1px 3px 1px rgba(0, 0, 0, 0.15);\n",
              "        filter: drop-shadow(0px 1px 2px rgba(0, 0, 0, 0.3));\n",
              "        fill: #FFFFFF;\n",
              "      }\n",
              "    </style>\n",
              "    <button class=\"colab-df-generate\" onclick=\"generateWithVariable('all_data')\"\n",
              "            title=\"Generate code using this dataframe.\"\n",
              "            style=\"display:none;\">\n",
              "\n",
              "  <svg xmlns=\"http://www.w3.org/2000/svg\" height=\"24px\"viewBox=\"0 0 24 24\"\n",
              "       width=\"24px\">\n",
              "    <path d=\"M7,19H8.4L18.45,9,17,7.55,7,17.6ZM5,21V16.75L18.45,3.32a2,2,0,0,1,2.83,0l1.4,1.43a1.91,1.91,0,0,1,.58,1.4,1.91,1.91,0,0,1-.58,1.4L9.25,21ZM18.45,9,17,7.55Zm-12,3A5.31,5.31,0,0,0,4.9,8.1,5.31,5.31,0,0,0,1,6.5,5.31,5.31,0,0,0,4.9,4.9,5.31,5.31,0,0,0,6.5,1,5.31,5.31,0,0,0,8.1,4.9,5.31,5.31,0,0,0,12,6.5,5.46,5.46,0,0,0,6.5,12Z\"/>\n",
              "  </svg>\n",
              "    </button>\n",
              "    <script>\n",
              "      (() => {\n",
              "      const buttonEl =\n",
              "        document.querySelector('#id_9f0193c6-20af-4c44-8cec-849c9a4c2506 button.colab-df-generate');\n",
              "      buttonEl.style.display =\n",
              "        google.colab.kernel.accessAllowed ? 'block' : 'none';\n",
              "\n",
              "      buttonEl.onclick = () => {\n",
              "        google.colab.notebook.generateWithVariable('all_data');\n",
              "      }\n",
              "      })();\n",
              "    </script>\n",
              "  </div>\n",
              "\n",
              "    </div>\n",
              "  </div>\n"
            ],
            "application/vnd.google.colaboratory.intrinsic+json": {
              "type": "dataframe",
              "variable_name": "all_data",
              "summary": "{\n  \"name\": \"all_data\",\n  \"rows\": 7783,\n  \"fields\": [\n    {\n      \"column\": \"sentence\",\n      \"properties\": {\n        \"dtype\": \"string\",\n        \"num_unique_values\": 7774,\n        \"samples\": [\n          \"Early indications were that the injured had spinal injuries, broken legs, ankles, a possible dislocated shoulder, trauma and cuts.\",\n          \"In Canada, people are overwhelmingly searching for costumes for two - variations on [couples costumes] dominate the top 10.\",\n          \"Kay Bloom, 78, of Alameda, said she didn't see any oil when she walked on the beach that morning, but she is still upset that a spill could occur less than two years after the Cosco Busan incident.\"\n        ],\n        \"semantic_type\": \"\",\n        \"description\": \"\"\n      }\n    },\n    {\n      \"column\": \"class\",\n      \"properties\": {\n        \"dtype\": \"date\",\n        \"min\": 0,\n        \"max\": 1,\n        \"num_unique_values\": 2,\n        \"samples\": [\n          1,\n          0\n        ],\n        \"semantic_type\": \"\",\n        \"description\": \"\"\n      }\n    }\n  ]\n}"
            }
          },
          "metadata": {},
          "execution_count": 24
        }
      ]
    },
    {
      "cell_type": "markdown",
      "source": [
        "\n",
        "### Models"
      ],
      "metadata": {
        "id": "MTgKRJ2MCFMW"
      }
    },
    {
      "cell_type": "markdown",
      "source": [
        "While searching for the existing solutions to this problem, I've found an article [\"Detecting Text Formality: A Study of Text Classification Approaches\"](https://arxiv.org/abs/2204.08975).\n",
        "\n",
        "The authors train models for formality detection task in three scenarios: monolingual, multilingual and cross-lingual. In my work I focus on the monolingual task since the collected dataset is in English.\n",
        "\n",
        "This work proposes state-of-the art approaches to the problem. Here I use two of the models: fine-tuned [mDeBERTa](https://huggingface.co/s-nlp/deberta-large-formality-ranker) and fine-tuned [XLM-Roberta-based](https://huggingface.co/s-nlp/xlmr_formality_classifier) classifier. For all of the models I use the tokenizers from the HuggingFace page example.\n",
        "\n",
        "We start with mDeBERTa:"
      ],
      "metadata": {
        "id": "ilxU6PrvUCA0"
      }
    },
    {
      "cell_type": "code",
      "execution_count": null,
      "metadata": {
        "id": "lapFyJZYsyPV",
        "colab": {
          "base_uri": "https://localhost:8080/",
          "height": 363,
          "referenced_widgets": [
            "ed9d968d864342b9a9aa53c61af11496",
            "35f51274ff5f4fb5b3e3fafb933a8af9",
            "4dd3ea9894aa460bb21f0aa37cb93090",
            "e547e5b826f54342b99b77ac15ebc55b",
            "6fd7ac8eef0e4040b3003935438d86a1",
            "1cabf286091f40a490a01e71531f9645",
            "78b8b9f5b1a64c78955f307560464a0b",
            "3ebfb70ad3b84c88885f48bad125e13e",
            "5184712944224be2901a663ad71f0e9a",
            "3a0bc5c7a32844888b784b9d71dd8630",
            "274eb3e80cf6498cb514de31559fe53f",
            "aed798f1c0a84a42827be342c9d1f0f8",
            "cb1b26ad428b46b28a340c9f147f1fa3",
            "1542c759b61a4c249a1a3e5c23c5bbcd",
            "d1efe0f157d24be1a5ccaf6f5ea127b9",
            "5979c582d34047d69d02f4ec96f80e60",
            "2230a52302ee4f8caf1749e504e31eaa",
            "bd815692f6774f9b8b115ed06009a870",
            "ddc5a02233bd44bc987a95950f96007c",
            "703381ddc8734521bf9d16f42f218dc3",
            "9399fe8a581141ad9498e9b33acc6da2",
            "337fcede7e4146fa8a7435076fe13f24",
            "f66ae90fb7074292b7b074c7ed4bda76",
            "c0127e6f1442412ca25e182d30c124c1",
            "de869f8a8c8b40a5820eed48da844535",
            "c9ebefc43865476abe27c9c3b626dd68",
            "62b7ea8d0dab43cba478fd960d690b5c",
            "28fa1a2177d44d89b2dfc18f9bc9688c",
            "d3eb77618a4c4e0cb88223150ff9ceff",
            "eff7b33e19de4793b530710067330c96",
            "4e2811ed8acb48df89461d0b7335fb54",
            "6f4fd65a522b4781a501d8ca6626e3c7",
            "056e732e39484a06bd1ee405fb42de69",
            "4aab72ac55264dcdab23cad19fe61f05",
            "72ed3fc7185a41368f7d2e6880c0af9b",
            "dc01ed8b79f24b2184799183f9e31cc4",
            "c1b4dd6cf95e472d91c3f71f774fb114",
            "2e61c876f0b74542899f62217b4f3533",
            "ad3b617592c5403093f67b69e5e7ddaf",
            "52feda8e5b6d4dfbabf8cf1eb00bcf2d",
            "1c601abfd5aa4c86889136fdfb8f918d",
            "4f4f48889d6d42cdbfd6b1e5784d89ca",
            "648e50c24d0c458f90491b075549889e",
            "a4fac04493b0404e92d59ecfd42d941b",
            "c924ec21d3874e9fac8391dba2f6c24f",
            "906cf24691224b379a869563421a21ef",
            "8f9e77c8569d42e382e742a8e0db25db",
            "bf0a6821b35e4939abc8c2d7e3f9f7db",
            "8e4a26bad2144a2f849e32fc15583aa8",
            "c18011199bf24faab46ebf44daf14a03",
            "07ddfef64b364f258016b5f145c9aa6b",
            "4158b110a3184bff966301ff5d29c7a0",
            "73f42dfd64254beab757564e644e9d49",
            "c24e79791b3d4107a5caf64dc3535020",
            "58e8d2f587e14b52a35d8698252109b7",
            "88775706205949669c5dc223417986ff",
            "074361bf4dea4a48b4fb4e5a06c83fc6",
            "1072717f60794e32aff450fbc5fc5a22",
            "3e0a203299c84944b46210f9c0caf0e2",
            "8a51e6d7ffa94aa7ad853a0c10ef0b6d",
            "a9e61a6a73f9471d8adcef7191ce4cd4",
            "6f75fd181ba24eab868acb15a9f9db3b",
            "6952c32a13af44fc8a4e13ec22474a7a",
            "64dd49883a4548519ca3c3f48bd8720e",
            "4f004385d50944a7af8901b20e6eeccd",
            "fa15fd70448148eaa2d8b2ae9c668d01",
            "f97ca7bc5e9649b883399ab57992ce21",
            "04546839491149319b091791344eb3eb",
            "9b6571c248f447199c2c2a4edc003175",
            "c049cf69321b449d81b70d01ba2780d4",
            "2a33efdb3b2349299eddb025a12d8a13",
            "75fcdddb78ad4c02bc4dad7733742143",
            "adaf7d9ea7ca4395b4f4a8d1bec76781",
            "47b99e8e7fe94de497be3da100ecbcbc",
            "b18f91d63f4949b4bd543fcca605d6b3",
            "bcd9cb9243a140cd8dba917c7beb5d50",
            "6633ac73529945bb85289ec909aa44b0"
          ]
        },
        "outputId": "4ac5a334-e647-42bb-a8af-44e641eb385a"
      },
      "outputs": [
        {
          "output_type": "stream",
          "name": "stderr",
          "text": [
            "/usr/local/lib/python3.11/dist-packages/huggingface_hub/utils/_auth.py:94: UserWarning: \n",
            "The secret `HF_TOKEN` does not exist in your Colab secrets.\n",
            "To authenticate with the Hugging Face Hub, create a token in your settings tab (https://huggingface.co/settings/tokens), set it as secret in your Google Colab and restart your session.\n",
            "You will be able to reuse this secret in all of your notebooks.\n",
            "Please note that authentication is recommended but still optional to access public models or datasets.\n",
            "  warnings.warn(\n"
          ]
        },
        {
          "output_type": "display_data",
          "data": {
            "text/plain": [
              "tokenizer_config.json:   0%|          | 0.00/1.40k [00:00<?, ?B/s]"
            ],
            "application/vnd.jupyter.widget-view+json": {
              "version_major": 2,
              "version_minor": 0,
              "model_id": "ed9d968d864342b9a9aa53c61af11496"
            }
          },
          "metadata": {}
        },
        {
          "output_type": "display_data",
          "data": {
            "text/plain": [
              "vocab.json:   0%|          | 0.00/798k [00:00<?, ?B/s]"
            ],
            "application/vnd.jupyter.widget-view+json": {
              "version_major": 2,
              "version_minor": 0,
              "model_id": "aed798f1c0a84a42827be342c9d1f0f8"
            }
          },
          "metadata": {}
        },
        {
          "output_type": "display_data",
          "data": {
            "text/plain": [
              "merges.txt:   0%|          | 0.00/456k [00:00<?, ?B/s]"
            ],
            "application/vnd.jupyter.widget-view+json": {
              "version_major": 2,
              "version_minor": 0,
              "model_id": "f66ae90fb7074292b7b074c7ed4bda76"
            }
          },
          "metadata": {}
        },
        {
          "output_type": "display_data",
          "data": {
            "text/plain": [
              "tokenizer.json:   0%|          | 0.00/2.11M [00:00<?, ?B/s]"
            ],
            "application/vnd.jupyter.widget-view+json": {
              "version_major": 2,
              "version_minor": 0,
              "model_id": "4aab72ac55264dcdab23cad19fe61f05"
            }
          },
          "metadata": {}
        },
        {
          "output_type": "display_data",
          "data": {
            "text/plain": [
              "special_tokens_map.json:   0%|          | 0.00/963 [00:00<?, ?B/s]"
            ],
            "application/vnd.jupyter.widget-view+json": {
              "version_major": 2,
              "version_minor": 0,
              "model_id": "c924ec21d3874e9fac8391dba2f6c24f"
            }
          },
          "metadata": {}
        },
        {
          "output_type": "display_data",
          "data": {
            "text/plain": [
              "config.json:   0%|          | 0.00/790 [00:00<?, ?B/s]"
            ],
            "application/vnd.jupyter.widget-view+json": {
              "version_major": 2,
              "version_minor": 0,
              "model_id": "88775706205949669c5dc223417986ff"
            }
          },
          "metadata": {}
        },
        {
          "output_type": "display_data",
          "data": {
            "text/plain": [
              "model.safetensors:   0%|          | 0.00/1.62G [00:00<?, ?B/s]"
            ],
            "application/vnd.jupyter.widget-view+json": {
              "version_major": 2,
              "version_minor": 0,
              "model_id": "f97ca7bc5e9649b883399ab57992ce21"
            }
          },
          "metadata": {}
        }
      ],
      "source": [
        "from transformers import AutoModelForSequenceClassification, AutoTokenizer\n",
        "import torch\n",
        "\n",
        "\n",
        "model_name = 's-nlp/deberta-large-formality-ranker'\n",
        "device = torch.device('cuda') if torch.cuda.is_available() else torch.device('cpu')\n",
        "deberta_tokenizer = AutoTokenizer.from_pretrained(model_name)\n",
        "deberta = AutoModelForSequenceClassification.from_pretrained(model_name).to(device)\n"
      ]
    },
    {
      "cell_type": "markdown",
      "source": [
        "Example usage: 2 informal, one formal."
      ],
      "metadata": {
        "id": "zSzacCdpSqnW"
      }
    },
    {
      "cell_type": "code",
      "source": [
        "inputs = [\"lol bruh im a bit tired rn \", \"damn mate\", \"I enjoy watching my companion attempt to role-play with them.\"]"
      ],
      "metadata": {
        "id": "XkCYRtHbZzgz"
      },
      "execution_count": null,
      "outputs": []
    },
    {
      "cell_type": "code",
      "source": [
        "encodings = deberta_tokenizer(inputs, padding=True, truncation=True, max_length=24, return_tensors=\"pt\")"
      ],
      "metadata": {
        "id": "3I_oiJVIyaLL"
      },
      "execution_count": null,
      "outputs": []
    },
    {
      "cell_type": "code",
      "source": [
        "pred = deberta(**encodings.to(device))"
      ],
      "metadata": {
        "id": "pij1DZiKtcO6"
      },
      "execution_count": null,
      "outputs": []
    },
    {
      "cell_type": "markdown",
      "source": [
        "We can just take maximum of the logits to predict the class:"
      ],
      "metadata": {
        "id": "2B_VnIX7TLqE"
      }
    },
    {
      "cell_type": "code",
      "source": [
        "preds = pred.logits.argmax(-1)\n",
        "\n",
        "preds"
      ],
      "metadata": {
        "colab": {
          "base_uri": "https://localhost:8080/"
        },
        "id": "ON3guRlzS4nl",
        "outputId": "0f6eb27d-142f-4211-bb10-ba7e7813bdab"
      },
      "execution_count": null,
      "outputs": [
        {
          "output_type": "execute_result",
          "data": {
            "text/plain": [
              "tensor([1, 1, 0], device='cuda:0')"
            ]
          },
          "metadata": {},
          "execution_count": 29
        }
      ]
    },
    {
      "cell_type": "markdown",
      "source": [
        "Here label 1 stands for Informal sentence, label 0 for formal."
      ],
      "metadata": {
        "id": "8pTjlcjNL06Q"
      }
    },
    {
      "cell_type": "markdown",
      "source": [
        "Then we move to XLM-Roberta-based classifier:"
      ],
      "metadata": {
        "id": "FusUEJPsZcmm"
      }
    },
    {
      "cell_type": "code",
      "source": [
        "from transformers import XLMRobertaTokenizerFast, XLMRobertaForSequenceClassification\n",
        "\n",
        "\n",
        "roberta_tokenizer = XLMRobertaTokenizerFast.from_pretrained('s-nlp/xlmr_formality_classifier')\n",
        "roberta = XLMRobertaForSequenceClassification.from_pretrained('s-nlp/xlmr_formality_classifier').to(device)"
      ],
      "metadata": {
        "colab": {
          "base_uri": "https://localhost:8080/",
          "height": 177,
          "referenced_widgets": [
            "93c61f6107994fb1a93cb3b5ed8b1cdd",
            "7402f97d42cb47f0806157e29db88878",
            "97dc8297e3a64feab152f81b57ec5b50",
            "6d1d1478ea244a57a2dc661e88998d81",
            "544a5d7dd1d949d388ce62cd391c2126",
            "665f4bb24cb8420491a0a9906c8b3442",
            "4ebf5e7efaa74426981c5b3fbd4583aa",
            "31c4986fa6574c23a78742c3786f8e37",
            "2504a72e9dd34873a35c9468efdcea3a",
            "1e1f36d3cb1043c3a58bc00053c0e422",
            "f83412b1c27a4f93825174e855a5167a",
            "f0dcc959ff8b46599f4f50fce04eccfe",
            "35f3cff7ecbc4d22b039f06510f172cd",
            "19e66b582c294607b97e4354cb743181",
            "e9b473a1d2e2491e8da21ae73f6d62e0",
            "84377a60f262425b94136ff841627ae2",
            "28af64f0a7ac4aba8a7217090e4fc306",
            "10557268e8ee47dc80e00a8b33e0c54c",
            "dd334c621ccd41c7adbae45612a623a4",
            "5f6486d9676b49d8ad9b0c986384b038",
            "2b17ea7be61245b59ff9a1f93bbcf994",
            "3433be55d4864ef2a635844fcade8e36",
            "264c16c6912e47549534a2e4f321a36a",
            "ee74a9bfb6c3490cb7eca822e904a444",
            "a978d8d7a9b34ba2868616e7d0fc3134",
            "265c7831e3884b9da70b2c4bc81487da",
            "bb765e6dea2740b8b385bde27eaa637e",
            "0b82bd725c9e40b7bb35677352183911",
            "034abfe1e5214c77be9fa1660e7db50b",
            "27d7fb8e390746529f04f365c0bb9383",
            "05ed5bb3c8bf4896acef39568e0daf0c",
            "0a0aa6fbc5ef4cd0bf28f8725a9c2195",
            "54cae1db224843b0a45fdda362489841",
            "30468b2d81f94dc38cbbece00b33643d",
            "587e4f1a323a49e9afda24b0dd27bbc8",
            "e3edcbd7620c490088256406b0b2faf3",
            "58656648dad34a129d427c359eee7f69",
            "6977b930b5884a378eb4e0bec564be8e",
            "e0ee8e80ddd94e98ac63d22ce41d1f82",
            "e8df79deb33e4f6aa1f5fc665fe2140f",
            "8266213579fc4e7f803402a7d1b3e704",
            "a91caca7d15d4bd89b9284e7d040424e",
            "8a61253623d84f568d147f251ee8a9b9",
            "4641823a6fea451c9d2855955b271b79",
            "fdd3a766691141569993a2cd15e3dcbb",
            "49523ad327e8453c98f40d7820076e03",
            "5ffa915c7cf74687b703c7d31d1122ee",
            "163b67d1317b4ea0b5e25334c5585e91",
            "d2e73a1ae8dc4c95aa5a910b6ec880e0",
            "daa78430d8064eb2bdcce55d86a1c7d2",
            "3b2f4b71bdf045feae6fe793092b9417",
            "b0accdf1a1fb4604b1b9e5897b5e4245",
            "cafe2196107a4741bb0eee02120bdca3",
            "2c9a2535ff9a49dab2f91fdee8a89add",
            "d60750c2663547b79a738b855d9ac1b8"
          ]
        },
        "id": "0_JsXj8IZnCi",
        "outputId": "5ca28838-00e4-4a1c-e818-2d6c9a02f8ac"
      },
      "execution_count": null,
      "outputs": [
        {
          "output_type": "display_data",
          "data": {
            "text/plain": [
              "tokenizer_config.json:   0%|          | 0.00/398 [00:00<?, ?B/s]"
            ],
            "application/vnd.jupyter.widget-view+json": {
              "version_major": 2,
              "version_minor": 0,
              "model_id": "93c61f6107994fb1a93cb3b5ed8b1cdd"
            }
          },
          "metadata": {}
        },
        {
          "output_type": "display_data",
          "data": {
            "text/plain": [
              "tokenizer.json:   0%|          | 0.00/9.08M [00:00<?, ?B/s]"
            ],
            "application/vnd.jupyter.widget-view+json": {
              "version_major": 2,
              "version_minor": 0,
              "model_id": "f0dcc959ff8b46599f4f50fce04eccfe"
            }
          },
          "metadata": {}
        },
        {
          "output_type": "display_data",
          "data": {
            "text/plain": [
              "special_tokens_map.json:   0%|          | 0.00/239 [00:00<?, ?B/s]"
            ],
            "application/vnd.jupyter.widget-view+json": {
              "version_major": 2,
              "version_minor": 0,
              "model_id": "264c16c6912e47549534a2e4f321a36a"
            }
          },
          "metadata": {}
        },
        {
          "output_type": "display_data",
          "data": {
            "text/plain": [
              "config.json:   0%|          | 0.00/896 [00:00<?, ?B/s]"
            ],
            "application/vnd.jupyter.widget-view+json": {
              "version_major": 2,
              "version_minor": 0,
              "model_id": "30468b2d81f94dc38cbbece00b33643d"
            }
          },
          "metadata": {}
        },
        {
          "output_type": "display_data",
          "data": {
            "text/plain": [
              "model.safetensors:   0%|          | 0.00/1.11G [00:00<?, ?B/s]"
            ],
            "application/vnd.jupyter.widget-view+json": {
              "version_major": 2,
              "version_minor": 0,
              "model_id": "fdd3a766691141569993a2cd15e3dcbb"
            }
          },
          "metadata": {}
        }
      ]
    },
    {
      "cell_type": "code",
      "source": [
        "encodings = roberta_tokenizer(\n",
        "    inputs,\n",
        "    add_special_tokens=True,\n",
        "    return_token_type_ids=True,\n",
        "    truncation=True,\n",
        "    padding=\"max_length\",\n",
        "    return_tensors=\"pt\",\n",
        ")"
      ],
      "metadata": {
        "id": "K_XGOdx0Zviz"
      },
      "execution_count": null,
      "outputs": []
    },
    {
      "cell_type": "code",
      "source": [
        "pred = roberta(**encodings.to(device))"
      ],
      "metadata": {
        "id": "AkTLMEZXZ8Gr"
      },
      "execution_count": null,
      "outputs": []
    },
    {
      "cell_type": "code",
      "source": [
        "preds = pred.logits.argmax(-1)\n",
        "\n",
        "preds"
      ],
      "metadata": {
        "colab": {
          "base_uri": "https://localhost:8080/"
        },
        "id": "D2CFnVDGaDWR",
        "outputId": "81ec892a-174d-4733-eb6f-e1ac0a1ea73e"
      },
      "execution_count": null,
      "outputs": [
        {
          "output_type": "execute_result",
          "data": {
            "text/plain": [
              "tensor([1, 1, 0], device='cuda:0')"
            ]
          },
          "metadata": {},
          "execution_count": 33
        }
      ]
    },
    {
      "cell_type": "markdown",
      "source": [
        "### Catboost"
      ],
      "metadata": {
        "id": "2K8qWaonL_5o"
      }
    },
    {
      "cell_type": "markdown",
      "source": [
        "I decided to check if other approaches would work too. To do so I use catboost model. I extract some features from the data and train a CatboostClassifier model."
      ],
      "metadata": {
        "id": "nCIPVTnqaFb9"
      }
    },
    {
      "cell_type": "code",
      "source": [
        "! pip install catboost"
      ],
      "metadata": {
        "colab": {
          "base_uri": "https://localhost:8080/"
        },
        "id": "FE2mM9EGgJoT",
        "outputId": "5c6a1a0d-4783-4209-fcab-04557b9c6a20"
      },
      "execution_count": null,
      "outputs": [
        {
          "output_type": "stream",
          "name": "stdout",
          "text": [
            "Collecting catboost\n",
            "  Downloading catboost-1.2.7-cp311-cp311-manylinux2014_x86_64.whl.metadata (1.2 kB)\n",
            "Requirement already satisfied: graphviz in /usr/local/lib/python3.11/dist-packages (from catboost) (0.20.3)\n",
            "Requirement already satisfied: matplotlib in /usr/local/lib/python3.11/dist-packages (from catboost) (3.10.0)\n",
            "Requirement already satisfied: numpy<2.0,>=1.16.0 in /usr/local/lib/python3.11/dist-packages (from catboost) (1.26.4)\n",
            "Requirement already satisfied: pandas>=0.24 in /usr/local/lib/python3.11/dist-packages (from catboost) (2.2.2)\n",
            "Requirement already satisfied: scipy in /usr/local/lib/python3.11/dist-packages (from catboost) (1.14.1)\n",
            "Requirement already satisfied: plotly in /usr/local/lib/python3.11/dist-packages (from catboost) (5.24.1)\n",
            "Requirement already satisfied: six in /usr/local/lib/python3.11/dist-packages (from catboost) (1.17.0)\n",
            "Requirement already satisfied: python-dateutil>=2.8.2 in /usr/local/lib/python3.11/dist-packages (from pandas>=0.24->catboost) (2.8.2)\n",
            "Requirement already satisfied: pytz>=2020.1 in /usr/local/lib/python3.11/dist-packages (from pandas>=0.24->catboost) (2025.2)\n",
            "Requirement already satisfied: tzdata>=2022.7 in /usr/local/lib/python3.11/dist-packages (from pandas>=0.24->catboost) (2025.2)\n",
            "Requirement already satisfied: contourpy>=1.0.1 in /usr/local/lib/python3.11/dist-packages (from matplotlib->catboost) (1.3.1)\n",
            "Requirement already satisfied: cycler>=0.10 in /usr/local/lib/python3.11/dist-packages (from matplotlib->catboost) (0.12.1)\n",
            "Requirement already satisfied: fonttools>=4.22.0 in /usr/local/lib/python3.11/dist-packages (from matplotlib->catboost) (4.56.0)\n",
            "Requirement already satisfied: kiwisolver>=1.3.1 in /usr/local/lib/python3.11/dist-packages (from matplotlib->catboost) (1.4.8)\n",
            "Requirement already satisfied: packaging>=20.0 in /usr/local/lib/python3.11/dist-packages (from matplotlib->catboost) (24.2)\n",
            "Requirement already satisfied: pillow>=8 in /usr/local/lib/python3.11/dist-packages (from matplotlib->catboost) (11.1.0)\n",
            "Requirement already satisfied: pyparsing>=2.3.1 in /usr/local/lib/python3.11/dist-packages (from matplotlib->catboost) (3.2.3)\n",
            "Requirement already satisfied: tenacity>=6.2.0 in /usr/local/lib/python3.11/dist-packages (from plotly->catboost) (9.1.2)\n",
            "Downloading catboost-1.2.7-cp311-cp311-manylinux2014_x86_64.whl (98.7 MB)\n",
            "\u001b[2K   \u001b[90m━━━━━━━━━━━━━━━━━━━━━━━━━━━━━━━━━━━━━━━━\u001b[0m \u001b[32m98.7/98.7 MB\u001b[0m \u001b[31m9.5 MB/s\u001b[0m eta \u001b[36m0:00:00\u001b[0m\n",
            "\u001b[?25hInstalling collected packages: catboost\n",
            "Successfully installed catboost-1.2.7\n"
          ]
        }
      ]
    },
    {
      "cell_type": "code",
      "source": [
        "import re\n",
        "import string\n",
        "from sklearn.model_selection import train_test_split\n",
        "from sklearn.metrics import classification_report\n",
        "from catboost import CatBoostClassifier"
      ],
      "metadata": {
        "id": "kGF2Gjlkb00t"
      },
      "execution_count": null,
      "outputs": []
    },
    {
      "cell_type": "markdown",
      "source": [
        "We select words that are formality/informality indicators:"
      ],
      "metadata": {
        "id": "2CSm_Jn8cY88"
      }
    },
    {
      "cell_type": "code",
      "source": [
        "slang_words = {\n",
        "    \"gonna\", \"wanna\", \"gotta\", \"bro\", \"bruh\", \"lol\", \"lmao\", \"rofl\", \"yo\", \"wassup\", \"lit\", \"fam\", \"dude\", \"nah\", \"yolo\",\n",
        "    \"omg\", \"idk\", \"smh\", \"tbh\", \"btw\", \"thx\", \"pls\", \"fyi\", \"imo\", \"imho\", \"nope\", \"yup\", \"dope\", \"sick\", \"chill\", \"brb\",\n",
        "    \"ttyl\", \"bff\", \"bae\", \"hmu\", \"jk\", \"np\", \"srsly\", \"ngl\", \"ikr\", \"cuz\", \"coz\", \"sup\", \"yo\", \"meh\", \"okie\"\n",
        "}\n",
        "\n",
        "signoffs = {\n",
        "    \"regards\", \"sincerely\", \"best\", \"best regards\", \"kind regards\", \"warm regards\", \"respectfully\", \"cheers\", \"thanks\",\n",
        "    \"thank you\", \"yours truly\", \"yours sincerely\", \"warmest regards\", \"take care\", \"all the best\", \"many thanks\",\n",
        "    \"appreciatively\", \"with appreciation\", \"gratefully\", \"later\", \"see ya\", \"peace out\"\n",
        "}\n",
        "\n",
        "polite_words = {\n",
        "    \"please\", \"kindly\", \"would you\", \"could you\", \"may I\", \"if you don't mind\", \"would it be possible\", \"I'd appreciate it\",\n",
        "    \"thank you\", \"thanks in advance\", \"pardon me\", \"excuse me\", \"would you mind\", \"it would be great if\", \"I would be grateful\",\n",
        "    \"may I request\", \"your assistance is appreciated\", \"if possible\"\n",
        "}\n",
        "\n",
        "formal_words = {\n",
        "    \"regarding\", \"therefore\", \"furthermore\", \"moreover\", \"accordingly\", \"respectfully\", \"hence\", \"nevertheless\",\n",
        "    \"thus\", \"notwithstanding\", \"consequently\", \"in accordance with\", \"pursuant to\", \"aforementioned\", \"hereinafter\",\n",
        "    \"henceforth\", \"insofar\", \"nonetheless\", \"in the event that\", \"in lieu of\", \"whereas\", \"wherein\", \"inasmuch as\",\n",
        "    \"prior to\", \"subsequently\", \"to that end\", \"with reference to\"\n",
        "}"
      ],
      "metadata": {
        "id": "_nxX3UVzcW8O"
      },
      "execution_count": null,
      "outputs": []
    },
    {
      "cell_type": "markdown",
      "source": [
        "We also want to locate any contractions like 'don't' or 'I'll':"
      ],
      "metadata": {
        "id": "qBoCvxYRc3PE"
      }
    },
    {
      "cell_type": "code",
      "source": [
        "contraction_pattern = re.compile(r\"\\b(?:[A-Za-z]+n't|[A-Za-z]+'ll|[A-Za-z]+'ve|[A-Za-z]+'re|[A-Za-z]+'d|[A-Za-z]+'m)\\b\")"
      ],
      "metadata": {
        "id": "H4DToEqOdKC4"
      },
      "execution_count": null,
      "outputs": []
    },
    {
      "cell_type": "code",
      "source": [
        "def extract_features(text):\n",
        "    words = text.split()\n",
        "    num_words = len(words) # amount of words\n",
        "    num_chars = len(text) # amount of symbols\n",
        "    num_upper = sum(1 for c in text if c.isupper()) # capital letters\n",
        "    num_exclam = text.count('!') # exclamation mark amount\n",
        "    num_contractions = len(contraction_pattern.findall(text)) # contraction amount\n",
        "    num_slang = sum(1 for word in words if word.lower() in slang_words) # amount of slang words\n",
        "    num_signoffs = sum(1 for word in words if word.lower() in signoffs) # amount of signoffs\n",
        "    num_polite = sum(1 for word in words if word.lower() in polite_words) # amount of polite words\n",
        "    num_formal = sum(1 for word in words if word.lower() in formal_words) # amount of formal words\n",
        "    num_punct = sum(1 for c in text if c in string.punctuation) # number of punctuation chars\n",
        "    digit_ratio = sum(c.isdigit() for c in text) / (num_chars + 1e-5) # if the text is heavy on digits\n",
        "\n",
        "    return [\n",
        "        num_chars,\n",
        "        np.mean([len(word) for word in words]) if words else 0,\n",
        "        num_upper,\n",
        "        num_exclam,\n",
        "        num_contractions,\n",
        "        num_slang,\n",
        "        num_signoffs,\n",
        "        num_polite,\n",
        "        num_formal,\n",
        "        num_punct,\n",
        "        digit_ratio\n",
        "    ]"
      ],
      "metadata": {
        "id": "TnNlZ_9meZHY"
      },
      "execution_count": null,
      "outputs": []
    },
    {
      "cell_type": "code",
      "source": [
        "catboost_data = all_data.copy()"
      ],
      "metadata": {
        "id": "goEFLBFpen68"
      },
      "execution_count": null,
      "outputs": []
    },
    {
      "cell_type": "markdown",
      "source": [
        "To train CatBoost model we have to add extra features to the text. I decided to use the length of the text, average word length, number of uppercase letters, exclamation marks, contractions, slang words, signoffs, polite and formal word and punctuation. Digit to all the chars ratio may also be helpful.  "
      ],
      "metadata": {
        "id": "yYLC0zuzDMBn"
      }
    },
    {
      "cell_type": "code",
      "source": [
        "feature_names = [\n",
        "    \"text_length\", \"avg_word_length\", \"uppercase_count\", \"exclamation_count\",\n",
        "    \"contraction_count\", \"slang_count\", \"signoff_count\", \"polite_count\",\n",
        "    \"formal_count\", \"punctuation_count\", \"digit_ratio\"\n",
        "]\n",
        "catboost_data[feature_names] = catboost_data[\"sentence\"].apply(lambda x: pd.Series(extract_features(x)))"
      ],
      "metadata": {
        "id": "JcURBc6deaar"
      },
      "execution_count": null,
      "outputs": []
    },
    {
      "cell_type": "markdown",
      "source": [
        "Now we split the data to train and test, so that we can train and evaluate our model."
      ],
      "metadata": {
        "id": "T1pkT1XsRN4D"
      }
    },
    {
      "cell_type": "code",
      "source": [
        "X = catboost_data[feature_names]\n",
        "y = catboost_data[\"class\"]\n",
        "\n",
        "X_train, X_test, y_train, y_test = train_test_split(X, y, test_size=0.2, random_state=1)"
      ],
      "metadata": {
        "id": "u6cxNPNDe6qP"
      },
      "execution_count": null,
      "outputs": []
    },
    {
      "cell_type": "markdown",
      "source": [
        "Training and inference step:"
      ],
      "metadata": {
        "id": "gBJJcrbWRV-V"
      }
    },
    {
      "cell_type": "code",
      "source": [
        "catboost = CatBoostClassifier(verbose=0)\n",
        "catboost.fit(X_train, y_train)"
      ],
      "metadata": {
        "colab": {
          "base_uri": "https://localhost:8080/"
        },
        "id": "SOJx1etYfCdJ",
        "outputId": "7f85f77f-a84e-41ac-cab1-80502654774d"
      },
      "execution_count": null,
      "outputs": [
        {
          "output_type": "execute_result",
          "data": {
            "text/plain": [
              "<catboost.core.CatBoostClassifier at 0x7e2606a21e90>"
            ]
          },
          "metadata": {},
          "execution_count": 42
        }
      ]
    },
    {
      "cell_type": "code",
      "source": [
        "y_pred = catboost.predict(X_test)"
      ],
      "metadata": {
        "id": "7PdK9SNFcvc6"
      },
      "execution_count": null,
      "outputs": []
    },
    {
      "cell_type": "markdown",
      "source": [
        "It's quite interesting to see which features had the most impact on the result. We can check the feature importance:"
      ],
      "metadata": {
        "id": "iEoBzggYMv12"
      }
    },
    {
      "cell_type": "code",
      "source": [
        "plt.figure(figsize=(10, 6))\n",
        "plt.barh(feature_names, catboost.feature_importances_)\n",
        "plt.xlabel(\"Importance\")\n",
        "plt.title(\"Feature Importance\")\n",
        "plt.gca().invert_yaxis()\n",
        "plt.show()"
      ],
      "metadata": {
        "colab": {
          "base_uri": "https://localhost:8080/",
          "height": 564
        },
        "id": "nhsJQiaolwCj",
        "outputId": "a57a4709-1514-4dd3-ac28-3d09529fc693"
      },
      "execution_count": null,
      "outputs": [
        {
          "output_type": "display_data",
          "data": {
            "text/plain": [
              "<Figure size 1000x600 with 1 Axes>"
            ],
            "image/png": "[encoded data removed]"
          },
          "metadata": {}
        }
      ]
    },
    {
      "cell_type": "markdown",
      "source": [
        "We see that the length and average text length were the most important of all. People tend to use shorter words in informal speech, which explains it.\n",
        "\n",
        "Exclamation marks and contractions serve as markers of informal speech, while punctuation and digits might help to detect formality. Signoffs slightly help, but overall our lists of words did not help much."
      ],
      "metadata": {
        "id": "5fHJAwjAM5RO"
      }
    },
    {
      "cell_type": "markdown",
      "source": [
        "### Metrics\n",
        "\n",
        "\n"
      ],
      "metadata": {
        "id": "Jmjd3BAtTh46"
      }
    },
    {
      "cell_type": "markdown",
      "source": [
        "Next step is to choose metrics. Accuracy, precision, recall and F1 are commonly used in these tasks, which was seen in the related articles. I'll stick to those."
      ],
      "metadata": {
        "id": "H4NhqKE7aei6"
      }
    },
    {
      "cell_type": "code",
      "source": [
        "input_data = all_data['sentence'].to_list()\n",
        "labels = all_data['class'].to_list()\n",
        "\n",
        "\n",
        "listed_data = list(zip(input_data, labels))"
      ],
      "metadata": {
        "id": "-ENGet82T2tm"
      },
      "execution_count": null,
      "outputs": []
    },
    {
      "cell_type": "code",
      "source": [
        "from torch.utils.data import DataLoader\n",
        "\n",
        "val_loader = DataLoader(listed_data, shuffle=False, batch_size = 50)"
      ],
      "metadata": {
        "id": "Qe7Zok3DT6hB"
      },
      "execution_count": null,
      "outputs": []
    },
    {
      "cell_type": "code",
      "source": [
        "from tqdm import tqdm\n",
        "\n",
        "def evaluate_model(model, tokenizer, val_loader, device=torch.device('cpu')):\n",
        "  num_batches = len(val_loader)\n",
        "\n",
        "  prediction = []\n",
        "  all_labels = []\n",
        "\n",
        "  for i in tqdm(range(num_batches)):\n",
        "    sentences, labels = next(iter(val_loader))\n",
        "    encodings = tokenizer(sentences, padding=True, truncation=True, max_length=24, return_tensors=\"pt\")\n",
        "\n",
        "    with torch.no_grad():\n",
        "      logits = model(**encodings.to(device)).logits\n",
        "\n",
        "    prediction += logits.argmax(-1).cpu()\n",
        "    all_labels += labels.cpu()\n",
        "\n",
        "  print(classification_report(all_labels, prediction, target_names=['formal', 'informal']))"
      ],
      "metadata": {
        "id": "_O0icbpbceRq"
      },
      "execution_count": null,
      "outputs": []
    },
    {
      "cell_type": "code",
      "source": [
        "evaluate_model(deberta, deberta_tokenizer,  val_loader, device)"
      ],
      "metadata": {
        "colab": {
          "base_uri": "https://localhost:8080/"
        },
        "id": "fCoW1_-ujKww",
        "outputId": "9125ba48-2dea-4c40-8dfb-c34b3be82e8a"
      },
      "execution_count": null,
      "outputs": [
        {
          "output_type": "stream",
          "name": "stderr",
          "text": [
            "100%|██████████| 156/156 [00:39<00:00,  3.94it/s]"
          ]
        },
        {
          "output_type": "stream",
          "name": "stdout",
          "text": [
            "              precision    recall  f1-score   support\n",
            "\n",
            "      formal       0.80      0.77      0.78      4056\n",
            "    informal       0.76      0.79      0.78      3744\n",
            "\n",
            "    accuracy                           0.78      7800\n",
            "   macro avg       0.78      0.78      0.78      7800\n",
            "weighted avg       0.78      0.78      0.78      7800\n",
            "\n"
          ]
        },
        {
          "output_type": "stream",
          "name": "stderr",
          "text": [
            "\n"
          ]
        }
      ]
    },
    {
      "cell_type": "code",
      "source": [
        "evaluate_model(roberta, roberta_tokenizer, val_loader, device)"
      ],
      "metadata": {
        "colab": {
          "base_uri": "https://localhost:8080/"
        },
        "id": "o6gY70RHKoFT",
        "outputId": "0448e697-4a9a-48eb-dba3-3bec7b6d778e"
      },
      "execution_count": null,
      "outputs": [
        {
          "output_type": "stream",
          "name": "stderr",
          "text": [
            "100%|██████████| 156/156 [00:10<00:00, 15.07it/s]\n"
          ]
        },
        {
          "output_type": "stream",
          "name": "stdout",
          "text": [
            "              precision    recall  f1-score   support\n",
            "\n",
            "      formal       0.76      0.50      0.60      4056\n",
            "    informal       0.61      0.83      0.70      3744\n",
            "\n",
            "    accuracy                           0.66      7800\n",
            "   macro avg       0.69      0.67      0.65      7800\n",
            "weighted avg       0.69      0.66      0.65      7800\n",
            "\n"
          ]
        }
      ]
    },
    {
      "cell_type": "markdown",
      "source": [
        "And now metrics for CatboostClassifier. Here I test the model on test dataset, which is only 20% from the `all_data`. It was required because the classifier had to be trained."
      ],
      "metadata": {
        "id": "O3qOEepKKtcp"
      }
    },
    {
      "cell_type": "code",
      "source": [
        "print(classification_report(y_test.to_list(), y_pred, target_names=['formal', 'informal']))"
      ],
      "metadata": {
        "colab": {
          "base_uri": "https://localhost:8080/"
        },
        "id": "TyCx0HDsKqQd",
        "outputId": "d1a09568-8adb-4d96-a0fc-5ed71c73b1d5"
      },
      "execution_count": null,
      "outputs": [
        {
          "output_type": "stream",
          "name": "stdout",
          "text": [
            "              precision    recall  f1-score   support\n",
            "\n",
            "      formal       0.82      0.83      0.83       777\n",
            "    informal       0.83      0.82      0.83       780\n",
            "\n",
            "    accuracy                           0.83      1557\n",
            "   macro avg       0.83      0.83      0.83      1557\n",
            "weighted avg       0.83      0.83      0.83      1557\n",
            "\n"
          ]
        }
      ]
    },
    {
      "cell_type": "markdown",
      "source": [
        "### Conclusions"
      ],
      "metadata": {
        "id": "Nd1hJg0QQFGr"
      }
    },
    {
      "cell_type": "markdown",
      "source": [
        "As a result of my work, I can say that finr-tuned Deberta beats fine-tuned Roberta by a margin of 0.12 in terms of accuracy. It performed better in precision, recall and F1 as well.\n",
        "\n",
        "To my surprise, CatboostClassifier managed to beat both of them. I believe that it happened because it was trained on the samples from our dataset. Our choice of the threshold may have affected the quality of the result."
      ],
      "metadata": {
        "id": "zCLulb0DQIKd"
      }
    }
  ]
}